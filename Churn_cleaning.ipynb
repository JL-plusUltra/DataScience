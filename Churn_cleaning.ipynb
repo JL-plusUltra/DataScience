{
  "nbformat": 4,
  "nbformat_minor": 0,
  "metadata": {
    "colab": {
      "name": "Churn_cleaning.ipynb",
      "provenance": [],
      "mount_file_id": "1D9AKO_ktrNYO8QUOWmHrE2oyf5glOkd_",
      "authorship_tag": "ABX9TyMWdxyJX4cbqTtz86nTNFuz",
      "include_colab_link": true
    },
    "kernelspec": {
      "name": "python3",
      "display_name": "Python 3"
    },
    "language_info": {
      "name": "python"
    }
  },
  "cells": [
    {
      "cell_type": "markdown",
      "metadata": {
        "id": "view-in-github",
        "colab_type": "text"
      },
      "source": [
        "<a href=\"https://colab.research.google.com/github/JL-plusUltra/DataScience/blob/main/Churn_cleaning.ipynb\" target=\"_parent\"><img src=\"https://colab.research.google.com/assets/colab-badge.svg\" alt=\"Open In Colab\"/></a>"
      ]
    },
    {
      "cell_type": "code",
      "metadata": {
        "id": "TfIUODVyQpFR"
      },
      "source": [
        "################## Packs for EDA #########################\n",
        "import pandas as pd\n",
        "import numpy as np\n",
        "import matplotlib.pyplot as plt\n",
        "import seaborn as sn\n",
        "\n",
        "##############Stats Packs################\n",
        "from scipy.stats import iqr \n",
        "from scipy import stats"
      ],
      "execution_count": 1,
      "outputs": []
    },
    {
      "cell_type": "code",
      "metadata": {
        "colab": {
          "base_uri": "https://localhost:8080/",
          "height": 221
        },
        "id": "KK3DYVG_Q7FE",
        "outputId": "a93653fa-326a-474e-8259-e6037f96f6b9"
      },
      "source": [
        "data = pd.read_csv('/content/drive/MyDrive/Churn_Modelling.csv')\n",
        "print(data.shape)\n",
        "data.head()"
      ],
      "execution_count": 2,
      "outputs": [
        {
          "output_type": "stream",
          "name": "stdout",
          "text": [
            "(10000, 14)\n"
          ]
        },
        {
          "output_type": "execute_result",
          "data": {
            "text/html": [
              "<div>\n",
              "<style scoped>\n",
              "    .dataframe tbody tr th:only-of-type {\n",
              "        vertical-align: middle;\n",
              "    }\n",
              "\n",
              "    .dataframe tbody tr th {\n",
              "        vertical-align: top;\n",
              "    }\n",
              "\n",
              "    .dataframe thead th {\n",
              "        text-align: right;\n",
              "    }\n",
              "</style>\n",
              "<table border=\"1\" class=\"dataframe\">\n",
              "  <thead>\n",
              "    <tr style=\"text-align: right;\">\n",
              "      <th></th>\n",
              "      <th>RowNumber</th>\n",
              "      <th>CustomerId</th>\n",
              "      <th>Surname</th>\n",
              "      <th>CreditScore</th>\n",
              "      <th>Geography</th>\n",
              "      <th>Gender</th>\n",
              "      <th>Age</th>\n",
              "      <th>Tenure</th>\n",
              "      <th>Balance</th>\n",
              "      <th>NumOfProducts</th>\n",
              "      <th>HasCrCard</th>\n",
              "      <th>IsActiveMember</th>\n",
              "      <th>EstimatedSalary</th>\n",
              "      <th>Exited</th>\n",
              "    </tr>\n",
              "  </thead>\n",
              "  <tbody>\n",
              "    <tr>\n",
              "      <th>0</th>\n",
              "      <td>1</td>\n",
              "      <td>15634602</td>\n",
              "      <td>Hargrave</td>\n",
              "      <td>619</td>\n",
              "      <td>France</td>\n",
              "      <td>Female</td>\n",
              "      <td>42</td>\n",
              "      <td>2</td>\n",
              "      <td>0.00</td>\n",
              "      <td>1</td>\n",
              "      <td>1</td>\n",
              "      <td>1</td>\n",
              "      <td>101348.88</td>\n",
              "      <td>1</td>\n",
              "    </tr>\n",
              "    <tr>\n",
              "      <th>1</th>\n",
              "      <td>2</td>\n",
              "      <td>15647311</td>\n",
              "      <td>Hill</td>\n",
              "      <td>608</td>\n",
              "      <td>Spain</td>\n",
              "      <td>Female</td>\n",
              "      <td>41</td>\n",
              "      <td>1</td>\n",
              "      <td>83807.86</td>\n",
              "      <td>1</td>\n",
              "      <td>0</td>\n",
              "      <td>1</td>\n",
              "      <td>112542.58</td>\n",
              "      <td>0</td>\n",
              "    </tr>\n",
              "    <tr>\n",
              "      <th>2</th>\n",
              "      <td>3</td>\n",
              "      <td>15619304</td>\n",
              "      <td>Onio</td>\n",
              "      <td>502</td>\n",
              "      <td>France</td>\n",
              "      <td>Female</td>\n",
              "      <td>42</td>\n",
              "      <td>8</td>\n",
              "      <td>159660.80</td>\n",
              "      <td>3</td>\n",
              "      <td>1</td>\n",
              "      <td>0</td>\n",
              "      <td>113931.57</td>\n",
              "      <td>1</td>\n",
              "    </tr>\n",
              "    <tr>\n",
              "      <th>3</th>\n",
              "      <td>4</td>\n",
              "      <td>15701354</td>\n",
              "      <td>Boni</td>\n",
              "      <td>699</td>\n",
              "      <td>France</td>\n",
              "      <td>Female</td>\n",
              "      <td>39</td>\n",
              "      <td>1</td>\n",
              "      <td>0.00</td>\n",
              "      <td>2</td>\n",
              "      <td>0</td>\n",
              "      <td>0</td>\n",
              "      <td>93826.63</td>\n",
              "      <td>0</td>\n",
              "    </tr>\n",
              "    <tr>\n",
              "      <th>4</th>\n",
              "      <td>5</td>\n",
              "      <td>15737888</td>\n",
              "      <td>Mitchell</td>\n",
              "      <td>850</td>\n",
              "      <td>Spain</td>\n",
              "      <td>Female</td>\n",
              "      <td>43</td>\n",
              "      <td>2</td>\n",
              "      <td>125510.82</td>\n",
              "      <td>1</td>\n",
              "      <td>1</td>\n",
              "      <td>1</td>\n",
              "      <td>79084.10</td>\n",
              "      <td>0</td>\n",
              "    </tr>\n",
              "  </tbody>\n",
              "</table>\n",
              "</div>"
            ],
            "text/plain": [
              "   RowNumber  CustomerId   Surname  ...  IsActiveMember EstimatedSalary Exited\n",
              "0          1    15634602  Hargrave  ...               1       101348.88      1\n",
              "1          2    15647311      Hill  ...               1       112542.58      0\n",
              "2          3    15619304      Onio  ...               0       113931.57      1\n",
              "3          4    15701354      Boni  ...               0        93826.63      0\n",
              "4          5    15737888  Mitchell  ...               1        79084.10      0\n",
              "\n",
              "[5 rows x 14 columns]"
            ]
          },
          "metadata": {},
          "execution_count": 2
        }
      ]
    },
    {
      "cell_type": "code",
      "metadata": {
        "colab": {
          "base_uri": "https://localhost:8080/"
        },
        "id": "1eZLpoCa29BO",
        "outputId": "19266d29-607f-40ad-d273-b84956d6a35f"
      },
      "source": [
        "#################### find missing data #################### there is none ##################\n",
        "M_count= (data.isnull().sum())\n",
        "print(M_count[M_count>0])\n",
        "print(M_count[M_count>0]/data.shape[0])"
      ],
      "execution_count": 3,
      "outputs": [
        {
          "output_type": "stream",
          "name": "stdout",
          "text": [
            "Series([], dtype: int64)\n",
            "Series([], dtype: float64)\n"
          ]
        }
      ]
    },
    {
      "cell_type": "code",
      "metadata": {
        "colab": {
          "base_uri": "https://localhost:8080/"
        },
        "id": "rspE88Xofgf1",
        "outputId": "1404aca3-4852-44de-d24c-13aa96b6ad4c"
      },
      "source": [
        "data.dtypes"
      ],
      "execution_count": 4,
      "outputs": [
        {
          "output_type": "execute_result",
          "data": {
            "text/plain": [
              "RowNumber            int64\n",
              "CustomerId           int64\n",
              "Surname             object\n",
              "CreditScore          int64\n",
              "Geography           object\n",
              "Gender              object\n",
              "Age                  int64\n",
              "Tenure               int64\n",
              "Balance            float64\n",
              "NumOfProducts        int64\n",
              "HasCrCard            int64\n",
              "IsActiveMember       int64\n",
              "EstimatedSalary    float64\n",
              "Exited               int64\n",
              "dtype: object"
            ]
          },
          "metadata": {},
          "execution_count": 4
        }
      ]
    },
    {
      "cell_type": "code",
      "metadata": {
        "id": "FdyCv6CKf32M"
      },
      "source": [
        "################ Create dummies for Gender #####################\n",
        "data[['is_Female','is_male']] = pd.get_dummies(data['Gender'])\n",
        "\n",
        "############### is_Female to int type #################\n",
        "data['is_Female']=data['is_Female'].astype(int)\n",
        "\n",
        "################# impute missing data just in case it lies to me ####################\n",
        "data['EstimatedSalary']=data['EstimatedSalary'].fillna(data['EstimatedSalary'].median())\n",
        "data['Balance']=data['Balance'].fillna(data['Balance'].median())\n",
        "data['CreditScore']=data['CreditScore'].fillna(data['CreditScore'].median())\n",
        "data['Exited']= data['Exited'].fillna(data['Exited'].mean())\n",
        "\n",
        "################# Drop is_male column since is_Female shows its info #########################\n",
        "data = data.drop(['is_male'], axis=1)\n"
      ],
      "execution_count": 5,
      "outputs": []
    },
    {
      "cell_type": "code",
      "metadata": {
        "id": "LJPe6vcsjy7W"
      },
      "source": [
        "################################## Log Regression Classifies better with outliers ##########################3\n",
        "########################## Find outliers w/ Z score #################################\n",
        "#data['z_score_salary']=stats.zscore(data['EstimatedSalary'])\n",
        "#data['z_score_balance']=stats.zscore(data['Balance'])\n",
        "#data['z_score_credit']=stats.zscore(data['CreditScore'])\n",
        "\n",
        "#eliminate outliers beyond three standard deviations\n",
        "#data = data[(np.abs(stats.zscore(data['EstimatedSalary'])) < 3)]\n",
        "#data = data[(np.abs(stats.zscore(data['Balance'])) < 3)]\n",
        "#data = data[(np.abs(stats.zscore(data['CreditScore'])) < 3)]"
      ],
      "execution_count": 6,
      "outputs": []
    },
    {
      "cell_type": "code",
      "metadata": {
        "id": "RPsOZPLviJpN"
      },
      "source": [
        "##################### normalize columns used ###################\n",
        "data['CreditScore']= data['CreditScore']/data['CreditScore'].max()\n",
        "data['EstimatedSalary']=(data['EstimatedSalary']/data['EstimatedSalary'].max())\n",
        "data['Balance']=(data['Balance']/data['Balance'].max())\n",
        "data['Age']=data['Age']/data['Age'].max()\n"
      ],
      "execution_count": 7,
      "outputs": []
    },
    {
      "cell_type": "code",
      "metadata": {
        "colab": {
          "base_uri": "https://localhost:8080/",
          "height": 334
        },
        "id": "tK1D463JsFtu",
        "outputId": "b3987952-dfe5-485f-e4f4-4728db49b7d8"
      },
      "source": [
        "print(data.shape)\n",
        "data.describe()"
      ],
      "execution_count": 8,
      "outputs": [
        {
          "output_type": "stream",
          "name": "stdout",
          "text": [
            "(10000, 15)\n"
          ]
        },
        {
          "output_type": "execute_result",
          "data": {
            "text/html": [
              "<div>\n",
              "<style scoped>\n",
              "    .dataframe tbody tr th:only-of-type {\n",
              "        vertical-align: middle;\n",
              "    }\n",
              "\n",
              "    .dataframe tbody tr th {\n",
              "        vertical-align: top;\n",
              "    }\n",
              "\n",
              "    .dataframe thead th {\n",
              "        text-align: right;\n",
              "    }\n",
              "</style>\n",
              "<table border=\"1\" class=\"dataframe\">\n",
              "  <thead>\n",
              "    <tr style=\"text-align: right;\">\n",
              "      <th></th>\n",
              "      <th>RowNumber</th>\n",
              "      <th>CustomerId</th>\n",
              "      <th>CreditScore</th>\n",
              "      <th>Age</th>\n",
              "      <th>Tenure</th>\n",
              "      <th>Balance</th>\n",
              "      <th>NumOfProducts</th>\n",
              "      <th>HasCrCard</th>\n",
              "      <th>IsActiveMember</th>\n",
              "      <th>EstimatedSalary</th>\n",
              "      <th>Exited</th>\n",
              "      <th>is_Female</th>\n",
              "    </tr>\n",
              "  </thead>\n",
              "  <tbody>\n",
              "    <tr>\n",
              "      <th>count</th>\n",
              "      <td>10000.00000</td>\n",
              "      <td>1.000000e+04</td>\n",
              "      <td>10000.000000</td>\n",
              "      <td>10000.000000</td>\n",
              "      <td>10000.000000</td>\n",
              "      <td>10000.000000</td>\n",
              "      <td>10000.000000</td>\n",
              "      <td>10000.00000</td>\n",
              "      <td>10000.000000</td>\n",
              "      <td>10000.000000</td>\n",
              "      <td>10000.000000</td>\n",
              "      <td>10000.000000</td>\n",
              "    </tr>\n",
              "    <tr>\n",
              "      <th>mean</th>\n",
              "      <td>5000.50000</td>\n",
              "      <td>1.569094e+07</td>\n",
              "      <td>0.765328</td>\n",
              "      <td>0.423063</td>\n",
              "      <td>5.012800</td>\n",
              "      <td>0.304848</td>\n",
              "      <td>1.530200</td>\n",
              "      <td>0.70550</td>\n",
              "      <td>0.515100</td>\n",
              "      <td>0.500470</td>\n",
              "      <td>0.203700</td>\n",
              "      <td>0.454300</td>\n",
              "    </tr>\n",
              "    <tr>\n",
              "      <th>std</th>\n",
              "      <td>2886.89568</td>\n",
              "      <td>7.193619e+04</td>\n",
              "      <td>0.113710</td>\n",
              "      <td>0.113998</td>\n",
              "      <td>2.892174</td>\n",
              "      <td>0.248696</td>\n",
              "      <td>0.581654</td>\n",
              "      <td>0.45584</td>\n",
              "      <td>0.499797</td>\n",
              "      <td>0.287563</td>\n",
              "      <td>0.402769</td>\n",
              "      <td>0.497932</td>\n",
              "    </tr>\n",
              "    <tr>\n",
              "      <th>min</th>\n",
              "      <td>1.00000</td>\n",
              "      <td>1.556570e+07</td>\n",
              "      <td>0.411765</td>\n",
              "      <td>0.195652</td>\n",
              "      <td>0.000000</td>\n",
              "      <td>0.000000</td>\n",
              "      <td>1.000000</td>\n",
              "      <td>0.00000</td>\n",
              "      <td>0.000000</td>\n",
              "      <td>0.000058</td>\n",
              "      <td>0.000000</td>\n",
              "      <td>0.000000</td>\n",
              "    </tr>\n",
              "    <tr>\n",
              "      <th>25%</th>\n",
              "      <td>2500.75000</td>\n",
              "      <td>1.562853e+07</td>\n",
              "      <td>0.687059</td>\n",
              "      <td>0.347826</td>\n",
              "      <td>3.000000</td>\n",
              "      <td>0.000000</td>\n",
              "      <td>1.000000</td>\n",
              "      <td>0.00000</td>\n",
              "      <td>0.000000</td>\n",
              "      <td>0.255020</td>\n",
              "      <td>0.000000</td>\n",
              "      <td>0.000000</td>\n",
              "    </tr>\n",
              "    <tr>\n",
              "      <th>50%</th>\n",
              "      <td>5000.50000</td>\n",
              "      <td>1.569074e+07</td>\n",
              "      <td>0.767059</td>\n",
              "      <td>0.402174</td>\n",
              "      <td>5.000000</td>\n",
              "      <td>0.387402</td>\n",
              "      <td>1.000000</td>\n",
              "      <td>1.00000</td>\n",
              "      <td>1.000000</td>\n",
              "      <td>0.500988</td>\n",
              "      <td>0.000000</td>\n",
              "      <td>0.000000</td>\n",
              "    </tr>\n",
              "    <tr>\n",
              "      <th>75%</th>\n",
              "      <td>7500.25000</td>\n",
              "      <td>1.575323e+07</td>\n",
              "      <td>0.844706</td>\n",
              "      <td>0.478261</td>\n",
              "      <td>7.000000</td>\n",
              "      <td>0.508749</td>\n",
              "      <td>2.000000</td>\n",
              "      <td>1.00000</td>\n",
              "      <td>1.000000</td>\n",
              "      <td>0.746969</td>\n",
              "      <td>0.000000</td>\n",
              "      <td>1.000000</td>\n",
              "    </tr>\n",
              "    <tr>\n",
              "      <th>max</th>\n",
              "      <td>10000.00000</td>\n",
              "      <td>1.581569e+07</td>\n",
              "      <td>1.000000</td>\n",
              "      <td>1.000000</td>\n",
              "      <td>10.000000</td>\n",
              "      <td>1.000000</td>\n",
              "      <td>4.000000</td>\n",
              "      <td>1.00000</td>\n",
              "      <td>1.000000</td>\n",
              "      <td>1.000000</td>\n",
              "      <td>1.000000</td>\n",
              "      <td>1.000000</td>\n",
              "    </tr>\n",
              "  </tbody>\n",
              "</table>\n",
              "</div>"
            ],
            "text/plain": [
              "         RowNumber    CustomerId  ...        Exited     is_Female\n",
              "count  10000.00000  1.000000e+04  ...  10000.000000  10000.000000\n",
              "mean    5000.50000  1.569094e+07  ...      0.203700      0.454300\n",
              "std     2886.89568  7.193619e+04  ...      0.402769      0.497932\n",
              "min        1.00000  1.556570e+07  ...      0.000000      0.000000\n",
              "25%     2500.75000  1.562853e+07  ...      0.000000      0.000000\n",
              "50%     5000.50000  1.569074e+07  ...      0.000000      0.000000\n",
              "75%     7500.25000  1.575323e+07  ...      0.000000      1.000000\n",
              "max    10000.00000  1.581569e+07  ...      1.000000      1.000000\n",
              "\n",
              "[8 rows x 12 columns]"
            ]
          },
          "metadata": {},
          "execution_count": 8
        }
      ]
    },
    {
      "cell_type": "code",
      "metadata": {
        "colab": {
          "base_uri": "https://localhost:8080/",
          "height": 421
        },
        "id": "4RJUFf0ESjMQ",
        "outputId": "c2ba1f79-f2fd-4f8f-8cd8-99c3d8b91e14"
      },
      "source": [
        "################################# Check correlation between variables ###########################\n",
        "Xcor=data\n",
        "corM = Xcor.corr(method ='pearson')\n",
        "corM"
      ],
      "execution_count": 9,
      "outputs": [
        {
          "output_type": "execute_result",
          "data": {
            "text/html": [
              "<div>\n",
              "<style scoped>\n",
              "    .dataframe tbody tr th:only-of-type {\n",
              "        vertical-align: middle;\n",
              "    }\n",
              "\n",
              "    .dataframe tbody tr th {\n",
              "        vertical-align: top;\n",
              "    }\n",
              "\n",
              "    .dataframe thead th {\n",
              "        text-align: right;\n",
              "    }\n",
              "</style>\n",
              "<table border=\"1\" class=\"dataframe\">\n",
              "  <thead>\n",
              "    <tr style=\"text-align: right;\">\n",
              "      <th></th>\n",
              "      <th>RowNumber</th>\n",
              "      <th>CustomerId</th>\n",
              "      <th>CreditScore</th>\n",
              "      <th>Age</th>\n",
              "      <th>Tenure</th>\n",
              "      <th>Balance</th>\n",
              "      <th>NumOfProducts</th>\n",
              "      <th>HasCrCard</th>\n",
              "      <th>IsActiveMember</th>\n",
              "      <th>EstimatedSalary</th>\n",
              "      <th>Exited</th>\n",
              "      <th>is_Female</th>\n",
              "    </tr>\n",
              "  </thead>\n",
              "  <tbody>\n",
              "    <tr>\n",
              "      <th>RowNumber</th>\n",
              "      <td>1.000000</td>\n",
              "      <td>0.004202</td>\n",
              "      <td>0.005840</td>\n",
              "      <td>0.000783</td>\n",
              "      <td>-0.006495</td>\n",
              "      <td>-0.009067</td>\n",
              "      <td>0.007246</td>\n",
              "      <td>0.000599</td>\n",
              "      <td>0.012044</td>\n",
              "      <td>-0.005988</td>\n",
              "      <td>-0.016571</td>\n",
              "      <td>-0.018196</td>\n",
              "    </tr>\n",
              "    <tr>\n",
              "      <th>CustomerId</th>\n",
              "      <td>0.004202</td>\n",
              "      <td>1.000000</td>\n",
              "      <td>0.005308</td>\n",
              "      <td>0.009497</td>\n",
              "      <td>-0.014883</td>\n",
              "      <td>-0.012419</td>\n",
              "      <td>0.016972</td>\n",
              "      <td>-0.014025</td>\n",
              "      <td>0.001665</td>\n",
              "      <td>0.015271</td>\n",
              "      <td>-0.006248</td>\n",
              "      <td>0.002641</td>\n",
              "    </tr>\n",
              "    <tr>\n",
              "      <th>CreditScore</th>\n",
              "      <td>0.005840</td>\n",
              "      <td>0.005308</td>\n",
              "      <td>1.000000</td>\n",
              "      <td>-0.003965</td>\n",
              "      <td>0.000842</td>\n",
              "      <td>0.006268</td>\n",
              "      <td>0.012238</td>\n",
              "      <td>-0.005458</td>\n",
              "      <td>0.025651</td>\n",
              "      <td>-0.001384</td>\n",
              "      <td>-0.027094</td>\n",
              "      <td>0.002857</td>\n",
              "    </tr>\n",
              "    <tr>\n",
              "      <th>Age</th>\n",
              "      <td>0.000783</td>\n",
              "      <td>0.009497</td>\n",
              "      <td>-0.003965</td>\n",
              "      <td>1.000000</td>\n",
              "      <td>-0.009997</td>\n",
              "      <td>0.028308</td>\n",
              "      <td>-0.030680</td>\n",
              "      <td>-0.011721</td>\n",
              "      <td>0.085472</td>\n",
              "      <td>-0.007201</td>\n",
              "      <td>0.285323</td>\n",
              "      <td>0.027544</td>\n",
              "    </tr>\n",
              "    <tr>\n",
              "      <th>Tenure</th>\n",
              "      <td>-0.006495</td>\n",
              "      <td>-0.014883</td>\n",
              "      <td>0.000842</td>\n",
              "      <td>-0.009997</td>\n",
              "      <td>1.000000</td>\n",
              "      <td>-0.012254</td>\n",
              "      <td>0.013444</td>\n",
              "      <td>0.022583</td>\n",
              "      <td>-0.028362</td>\n",
              "      <td>0.007784</td>\n",
              "      <td>-0.014001</td>\n",
              "      <td>-0.014733</td>\n",
              "    </tr>\n",
              "    <tr>\n",
              "      <th>Balance</th>\n",
              "      <td>-0.009067</td>\n",
              "      <td>-0.012419</td>\n",
              "      <td>0.006268</td>\n",
              "      <td>0.028308</td>\n",
              "      <td>-0.012254</td>\n",
              "      <td>1.000000</td>\n",
              "      <td>-0.304180</td>\n",
              "      <td>-0.014858</td>\n",
              "      <td>-0.010084</td>\n",
              "      <td>0.012797</td>\n",
              "      <td>0.118533</td>\n",
              "      <td>-0.012087</td>\n",
              "    </tr>\n",
              "    <tr>\n",
              "      <th>NumOfProducts</th>\n",
              "      <td>0.007246</td>\n",
              "      <td>0.016972</td>\n",
              "      <td>0.012238</td>\n",
              "      <td>-0.030680</td>\n",
              "      <td>0.013444</td>\n",
              "      <td>-0.304180</td>\n",
              "      <td>1.000000</td>\n",
              "      <td>0.003183</td>\n",
              "      <td>0.009612</td>\n",
              "      <td>0.014204</td>\n",
              "      <td>-0.047820</td>\n",
              "      <td>0.021859</td>\n",
              "    </tr>\n",
              "    <tr>\n",
              "      <th>HasCrCard</th>\n",
              "      <td>0.000599</td>\n",
              "      <td>-0.014025</td>\n",
              "      <td>-0.005458</td>\n",
              "      <td>-0.011721</td>\n",
              "      <td>0.022583</td>\n",
              "      <td>-0.014858</td>\n",
              "      <td>0.003183</td>\n",
              "      <td>1.000000</td>\n",
              "      <td>-0.011866</td>\n",
              "      <td>-0.009933</td>\n",
              "      <td>-0.007138</td>\n",
              "      <td>-0.005766</td>\n",
              "    </tr>\n",
              "    <tr>\n",
              "      <th>IsActiveMember</th>\n",
              "      <td>0.012044</td>\n",
              "      <td>0.001665</td>\n",
              "      <td>0.025651</td>\n",
              "      <td>0.085472</td>\n",
              "      <td>-0.028362</td>\n",
              "      <td>-0.010084</td>\n",
              "      <td>0.009612</td>\n",
              "      <td>-0.011866</td>\n",
              "      <td>1.000000</td>\n",
              "      <td>-0.011421</td>\n",
              "      <td>-0.156128</td>\n",
              "      <td>-0.022544</td>\n",
              "    </tr>\n",
              "    <tr>\n",
              "      <th>EstimatedSalary</th>\n",
              "      <td>-0.005988</td>\n",
              "      <td>0.015271</td>\n",
              "      <td>-0.001384</td>\n",
              "      <td>-0.007201</td>\n",
              "      <td>0.007784</td>\n",
              "      <td>0.012797</td>\n",
              "      <td>0.014204</td>\n",
              "      <td>-0.009933</td>\n",
              "      <td>-0.011421</td>\n",
              "      <td>1.000000</td>\n",
              "      <td>0.012097</td>\n",
              "      <td>0.008112</td>\n",
              "    </tr>\n",
              "    <tr>\n",
              "      <th>Exited</th>\n",
              "      <td>-0.016571</td>\n",
              "      <td>-0.006248</td>\n",
              "      <td>-0.027094</td>\n",
              "      <td>0.285323</td>\n",
              "      <td>-0.014001</td>\n",
              "      <td>0.118533</td>\n",
              "      <td>-0.047820</td>\n",
              "      <td>-0.007138</td>\n",
              "      <td>-0.156128</td>\n",
              "      <td>0.012097</td>\n",
              "      <td>1.000000</td>\n",
              "      <td>0.106512</td>\n",
              "    </tr>\n",
              "    <tr>\n",
              "      <th>is_Female</th>\n",
              "      <td>-0.018196</td>\n",
              "      <td>0.002641</td>\n",
              "      <td>0.002857</td>\n",
              "      <td>0.027544</td>\n",
              "      <td>-0.014733</td>\n",
              "      <td>-0.012087</td>\n",
              "      <td>0.021859</td>\n",
              "      <td>-0.005766</td>\n",
              "      <td>-0.022544</td>\n",
              "      <td>0.008112</td>\n",
              "      <td>0.106512</td>\n",
              "      <td>1.000000</td>\n",
              "    </tr>\n",
              "  </tbody>\n",
              "</table>\n",
              "</div>"
            ],
            "text/plain": [
              "                 RowNumber  CustomerId  ...    Exited  is_Female\n",
              "RowNumber         1.000000    0.004202  ... -0.016571  -0.018196\n",
              "CustomerId        0.004202    1.000000  ... -0.006248   0.002641\n",
              "CreditScore       0.005840    0.005308  ... -0.027094   0.002857\n",
              "Age               0.000783    0.009497  ...  0.285323   0.027544\n",
              "Tenure           -0.006495   -0.014883  ... -0.014001  -0.014733\n",
              "Balance          -0.009067   -0.012419  ...  0.118533  -0.012087\n",
              "NumOfProducts     0.007246    0.016972  ... -0.047820   0.021859\n",
              "HasCrCard         0.000599   -0.014025  ... -0.007138  -0.005766\n",
              "IsActiveMember    0.012044    0.001665  ... -0.156128  -0.022544\n",
              "EstimatedSalary  -0.005988    0.015271  ...  0.012097   0.008112\n",
              "Exited           -0.016571   -0.006248  ...  1.000000   0.106512\n",
              "is_Female        -0.018196    0.002641  ...  0.106512   1.000000\n",
              "\n",
              "[12 rows x 12 columns]"
            ]
          },
          "metadata": {},
          "execution_count": 9
        }
      ]
    },
    {
      "cell_type": "code",
      "metadata": {
        "colab": {
          "base_uri": "https://localhost:8080/",
          "height": 358
        },
        "id": "rmGQiA0GsRVL",
        "outputId": "c70259bc-1d69-4a63-cb0a-7733932e8887"
      },
      "source": [
        "sn.heatmap(Xcor.corr(), annot = False, fmt='.5g')"
      ],
      "execution_count": 10,
      "outputs": [
        {
          "output_type": "execute_result",
          "data": {
            "text/plain": [
              "<matplotlib.axes._subplots.AxesSubplot at 0x7f0ccdfb2cd0>"
            ]
          },
          "metadata": {},
          "execution_count": 10
        },
        {
          "output_type": "display_data",
          "data": {
            "image/png": "[encoded data removed]",
            "text/plain": [
              "<Figure size 432x288 with 2 Axes>"
            ]
          },
          "metadata": {
            "needs_background": "light"
          }
        }
      ]
    },
    {
      "cell_type": "code",
      "metadata": {
        "colab": {
          "base_uri": "https://localhost:8080/"
        },
        "id": "wu-I-BkneuKo",
        "outputId": "6ba4ecb1-0f4f-43e5-eff3-df315e4cec27"
      },
      "source": [
        "############################# Check for Uniqueness #####################\n",
        "len(data['CustomerId'].unique())"
      ],
      "execution_count": 11,
      "outputs": [
        {
          "output_type": "execute_result",
          "data": {
            "text/plain": [
              "10000"
            ]
          },
          "metadata": {},
          "execution_count": 11
        }
      ]
    },
    {
      "cell_type": "code",
      "metadata": {
        "id": "4norZNl15d__"
      },
      "source": [
        "########################## Split Training and Test data ##########################\n",
        "#train_data = data.sample(frac=0.85)\n",
        "#test_data = data.loc[~data.index.isin(train_data.index)]"
      ],
      "execution_count": 12,
      "outputs": []
    },
    {
      "cell_type": "code",
      "metadata": {
        "id": "LKkYAXdQE9h9"
      },
      "source": [
        "############################# Load the splitted data so it's not random ###################\n",
        "train_data = pd.read_csv('/content/drive/MyDrive/Churn_train(82).csv')\n",
        "test_data = pd.read_csv('/content/drive/MyDrive/Churn_test(82).csv')"
      ],
      "execution_count": 13,
      "outputs": []
    },
    {
      "cell_type": "code",
      "metadata": {
        "colab": {
          "base_uri": "https://localhost:8080/"
        },
        "id": "RHgWenST5u9t",
        "outputId": "d1b84f6a-5508-48d2-f6a3-37743e740384"
      },
      "source": [
        "print(train_data.shape,test_data.shape)"
      ],
      "execution_count": 14,
      "outputs": [
        {
          "output_type": "stream",
          "name": "stdout",
          "text": [
            "(8500, 16) (1500, 16)\n"
          ]
        }
      ]
    },
    {
      "cell_type": "code",
      "metadata": {
        "id": "cq_H-_ixjxa1"
      },
      "source": [
        "######################## Function definitions###############################\n",
        "def sigmoid(h):\n",
        "  return 1/(1+np.exp(-h))\n",
        "\n",
        "def cross_entropy(y,p_hat):\n",
        "  return -(1/len(y))*np.sum(y*np.log(p_hat)+(1-y)*np.log(1-p_hat))\n",
        "\n",
        "def accuracy(y, y_hat):\n",
        "  return np.mean(y==y_hat)\n"
      ],
      "execution_count": 15,
      "outputs": []
    },
    {
      "cell_type": "code",
      "metadata": {
        "id": "eew51QDxj3Ff"
      },
      "source": [
        "class LogisticRegression():\n",
        "  def __init__(self, thresh=.35):\n",
        "    self.thresh=thresh\n",
        "    self.W=None\n",
        "    self.B=None\n",
        "\n",
        "  def fit(self,X,y, eta=1e-3, epochs=1e3, show_curve=False):\n",
        "    epochs= int(epochs)\n",
        "    N,D= X.shape\n",
        "\n",
        "    self.W= np.random.randn(D)\n",
        "    self.B= np.random.randn(1)\n",
        "\n",
        "    J= np.zeros(int(epochs))\n",
        "\n",
        "    for epoch in range(epochs):\n",
        "      p_hat=self.__forward__(X)\n",
        "      J[epoch]= cross_entropy(y,p_hat)\n",
        "\n",
        "      self.W -= eta* (1/N)*X.T@(p_hat-y)\n",
        "      self.B -= eta*(1/N)*np.sum(p_hat-y)\n",
        "\n",
        "    if show_curve:\n",
        "      plt.figure()\n",
        "      plt.plot(J)\n",
        "      plt.xlabel(\"epochs\")\n",
        "      plt.ylabel(\"$\\mathcal{J}$\")\n",
        "      plt.title(\"Training Curve\")\n",
        "      plt.show()\n",
        "    \n",
        "  def __forward__(self,X):\n",
        "    return sigmoid(X@self.W+self.B)\n",
        "\n",
        "  def predict(self, X):\n",
        "    return (self.__forward__(X)>=self.thresh).astype(np.int32)  "
      ],
      "execution_count": 16,
      "outputs": []
    },
    {
      "cell_type": "code",
      "metadata": {
        "id": "2WhpBVvppN8j"
      },
      "source": [
        "    #log_reg = LogisticRegression()\n",
        "    #log_reg.fit(X, y, eta = 1e-1, show_curve = True)\n",
        "    #y_hat = log_reg.predict(X)"
      ],
      "execution_count": 17,
      "outputs": []
    },
    {
      "cell_type": "code",
      "metadata": {
        "colab": {
          "base_uri": "https://localhost:8080/"
        },
        "id": "RMs2NfXsixZg",
        "outputId": "86b7d7fc-9a71-4272-d1cf-07fc33093778"
      },
      "source": [
        "X_train = train_data[['Age', 'is_Female', 'Balance','CreditScore']].copy()\n",
        "X_train.shape"
      ],
      "execution_count": 18,
      "outputs": [
        {
          "output_type": "execute_result",
          "data": {
            "text/plain": [
              "(8500, 4)"
            ]
          },
          "metadata": {},
          "execution_count": 18
        }
      ]
    },
    {
      "cell_type": "code",
      "metadata": {
        "colab": {
          "base_uri": "https://localhost:8080/"
        },
        "id": "1MEmchZ3jREL",
        "outputId": "8f8dd60b-2180-4cf3-fd4b-22daa8c6bb52"
      },
      "source": [
        "y_train=train_data['Exited'].copy()\n",
        "y_train.shape"
      ],
      "execution_count": 19,
      "outputs": [
        {
          "output_type": "execute_result",
          "data": {
            "text/plain": [
              "(8500,)"
            ]
          },
          "metadata": {},
          "execution_count": 19
        }
      ]
    },
    {
      "cell_type": "code",
      "metadata": {
        "id": "2VrAEkH6kFNO"
      },
      "source": [
        "X_train=X_train.to_numpy()\n",
        "y_train=y_train.to_numpy()"
      ],
      "execution_count": 20,
      "outputs": []
    },
    {
      "cell_type": "code",
      "metadata": {
        "id": "YmqK7tJkjb0T"
      },
      "source": [
        "log_reg = LogisticRegression()"
      ],
      "execution_count": 21,
      "outputs": []
    },
    {
      "cell_type": "code",
      "metadata": {
        "colab": {
          "base_uri": "https://localhost:8080/",
          "height": 295
        },
        "id": "R5HkN8vIkNAD",
        "outputId": "12685eb5-b286-42b5-ad61-870e534831e2"
      },
      "source": [
        "log_reg.fit(X_train, y_train, eta = 1e-2, epochs=3e3 , show_curve = True)"
      ],
      "execution_count": 22,
      "outputs": [
        {
          "output_type": "display_data",
          "data": {
            "image/png": "[encoded data removed]",
            "text/plain": [
              "<Figure size 432x288 with 1 Axes>"
            ]
          },
          "metadata": {
            "needs_background": "light"
          }
        }
      ]
    },
    {
      "cell_type": "code",
      "metadata": {
        "id": "Z0jZ8_i6lKHV"
      },
      "source": [
        "y_hat = log_reg.predict(X_train)"
      ],
      "execution_count": 23,
      "outputs": []
    },
    {
      "cell_type": "code",
      "metadata": {
        "colab": {
          "base_uri": "https://localhost:8080/"
        },
        "id": "hv-VxJB-lP9g",
        "outputId": "94f87062-bb1f-427a-992b-6eb63bc39053"
      },
      "source": [
        "accuracy(y_train,y_hat)"
      ],
      "execution_count": 24,
      "outputs": [
        {
          "output_type": "execute_result",
          "data": {
            "text/plain": [
              "0.7928235294117647"
            ]
          },
          "metadata": {},
          "execution_count": 24
        }
      ]
    },
    {
      "cell_type": "code",
      "metadata": {
        "id": "IhVkBrKQu24M"
      },
      "source": [
        ""
      ],
      "execution_count": 24,
      "outputs": []
    },
    {
      "cell_type": "code",
      "metadata": {
        "id": "lYcJQbXx8FHT"
      },
      "source": [
        "y_test = test_data['Exited'].copy()"
      ],
      "execution_count": 25,
      "outputs": []
    },
    {
      "cell_type": "code",
      "metadata": {
        "id": "oZlLZBaO8gH_"
      },
      "source": [
        "X_test = test_data[['Age', 'is_Female', 'Balance','CreditScore']].copy()"
      ],
      "execution_count": 26,
      "outputs": []
    },
    {
      "cell_type": "code",
      "metadata": {
        "id": "LSDeugkLoZHe"
      },
      "source": [
        "y_test = y_test.to_numpy()\n",
        "X_test = X_test.to_numpy()"
      ],
      "execution_count": 27,
      "outputs": []
    },
    {
      "cell_type": "code",
      "metadata": {
        "id": "CF2DXfXg8zJr"
      },
      "source": [
        "y_hat_test = log_reg.predict(X_test)"
      ],
      "execution_count": 28,
      "outputs": []
    },
    {
      "cell_type": "code",
      "metadata": {
        "id": "L4ErMGQZXxLO"
      },
      "source": [
        "percent =[]\n",
        "for i in range(len(y_hat_test)):\n",
        "  if y_hat_test[i]== 1:\n",
        "    percent.append(y_hat_test[i])\n"
      ],
      "execution_count": 39,
      "outputs": []
    },
    {
      "cell_type": "code",
      "metadata": {
        "colab": {
          "base_uri": "https://localhost:8080/"
        },
        "id": "_LWH9tzzYNb_",
        "outputId": "112120ea-9ef5-4858-bdb3-6f194e4a9b4e"
      },
      "source": [
        "len(percent)"
      ],
      "execution_count": 41,
      "outputs": [
        {
          "output_type": "execute_result",
          "data": {
            "text/plain": [
              "2"
            ]
          },
          "metadata": {},
          "execution_count": 41
        }
      ]
    },
    {
      "cell_type": "code",
      "metadata": {
        "colab": {
          "base_uri": "https://localhost:8080/"
        },
        "id": "pQq0rfQ287mG",
        "outputId": "b2b80716-6d48-4126-891c-fed7b040b720"
      },
      "source": [
        "################################ Log Regression accuracy #################\n",
        "accuracy(y_test, y_hat_test)"
      ],
      "execution_count": 29,
      "outputs": [
        {
          "output_type": "execute_result",
          "data": {
            "text/plain": [
              "0.818"
            ]
          },
          "metadata": {},
          "execution_count": 29
        }
      ]
    },
    {
      "cell_type": "code",
      "metadata": {
        "id": "sYSLOOpHmIi2"
      },
      "source": [
        "def softmax(h):\n",
        "  return (np.exp(h.T)/np.sum(np.exp(h), axis=1)).T\n",
        "\n",
        "def cross_entropy(Y, P_hat):\n",
        "  return -(1/len(Y))*np.sum(np.sum(Y*np.log(P_hat),axis=1),axis=0)\n",
        "\n",
        "def accuracy(y, y_hat):\n",
        "  return np.mean(y==y_hat)\n",
        "\n",
        "def indices_to_one_hot(data, nb_classes):\n",
        "  targets = np.array(data).reshape(-1)\n",
        "  return np.eye(nb_classes)[targets]\n",
        "  "
      ],
      "execution_count": 30,
      "outputs": []
    },
    {
      "cell_type": "code",
      "metadata": {
        "id": "rqINYkdWmTr5"
      },
      "source": [
        "class MVLogisticRegression():\n",
        "\n",
        "  def __init__(self,thresh=0.35):\n",
        "    self.thresh = thresh\n",
        "\n",
        "\n",
        "  def fit(self, X, y, eta=2e-1, epochs=1e3, show_curve=False):\n",
        "    epochs = int(epochs)\n",
        "    N,D = X.shape\n",
        "    K= len(np.unique(y))\n",
        "    y_values= np.unique(y, return_index=False)\n",
        "    Y= indices_to_one_hot(y, K).astype(int)\n",
        "\n",
        "    self.W = np.random.randn(D,K)\n",
        "    self.B = np.random.randn(1,K)\n",
        "\n",
        "    J= np.zeros(int(epochs))\n",
        "\n",
        "    for epoch in range(epochs):\n",
        "      P_hat= self.__forward__(X)\n",
        "      J[epoch]=cross_entropy(Y, P_hat)\n",
        "\n",
        "      self.W -=  eta*(1/N)*X.T@(P_hat-Y)\n",
        "      self.B -= eta*(1/N)*np.sum(P_hat-Y,axis=0)\n",
        "\n",
        "    if show_curve:\n",
        "      plt.figure()\n",
        "      plt.plot(J)\n",
        "      plt.xlabel(\"epochs\")\n",
        "      plt.ylabel(\"$\\mathcal{J}$\")\n",
        "      plt.title(\"Training Curve\")\n",
        "\n",
        "  def __forward__(self, X):\n",
        "    return sigmoid(X@self.W+self.B)\n",
        "    #return softmax(X@self.W + self.B)\n",
        "    \n",
        "\n",
        "  def predict(self, X):\n",
        "    return np.argmax(self.__forward__(X), axis=1)\n",
        "  "
      ],
      "execution_count": 31,
      "outputs": []
    },
    {
      "cell_type": "code",
      "metadata": {
        "id": "QE4NvcKMmasa"
      },
      "source": [
        "logreg_GD = MVLogisticRegression()"
      ],
      "execution_count": 32,
      "outputs": []
    },
    {
      "cell_type": "code",
      "metadata": {
        "colab": {
          "base_uri": "https://localhost:8080/",
          "height": 295
        },
        "id": "Wau5b5NcmeDi",
        "outputId": "d47f735d-7e73-442d-eefb-1d0b7487b69a"
      },
      "source": [
        "logreg_GD.fit(X_train, y_train,eta = 1e-2, epochs=3e3, show_curve=True)"
      ],
      "execution_count": 33,
      "outputs": [
        {
          "output_type": "display_data",
          "data": {
            "image/png": "[encoded data removed]",
            "text/plain": [
              "<Figure size 432x288 with 1 Axes>"
            ]
          },
          "metadata": {
            "needs_background": "light"
          }
        }
      ]
    },
    {
      "cell_type": "code",
      "metadata": {
        "id": "NRD0gN_HmiIv"
      },
      "source": [
        "y_hat_GD =logreg_GD.predict(X_train)"
      ],
      "execution_count": 34,
      "outputs": []
    },
    {
      "cell_type": "code",
      "metadata": {
        "colab": {
          "base_uri": "https://localhost:8080/"
        },
        "id": "BeeDRFlJm71x",
        "outputId": "02138412-c855-4e1a-e8e5-7a04c2adc91e"
      },
      "source": [
        "accuracy(y_train, y_hat_GD)"
      ],
      "execution_count": 35,
      "outputs": [
        {
          "output_type": "execute_result",
          "data": {
            "text/plain": [
              "0.7927058823529411"
            ]
          },
          "metadata": {},
          "execution_count": 35
        }
      ]
    },
    {
      "cell_type": "code",
      "metadata": {
        "id": "GlFacLCMeTvc"
      },
      "source": [
        "y_g = logreg_GD.predict(X_test)"
      ],
      "execution_count": 36,
      "outputs": []
    },
    {
      "cell_type": "code",
      "metadata": {
        "colab": {
          "base_uri": "https://localhost:8080/"
        },
        "id": "DXJP9_AeBJxX",
        "outputId": "a29e525d-6f51-4e2c-ee34-2ab1e892d21c"
      },
      "source": [
        "accuracy(y_test, y_g)"
      ],
      "execution_count": 37,
      "outputs": [
        {
          "output_type": "execute_result",
          "data": {
            "text/plain": [
              "0.8166666666666667"
            ]
          },
          "metadata": {},
          "execution_count": 37
        }
      ]
    }
  ]
}