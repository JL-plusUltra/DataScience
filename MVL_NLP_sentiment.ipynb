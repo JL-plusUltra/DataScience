{
  "nbformat": 4,
  "nbformat_minor": 0,
  "metadata": {
    "colab": {
      "name": "MVL_NLP_sentiment.ipynb",
      "provenance": [],
      "mount_file_id": "13o_cftMGrnyPTANtzgDPB0W5HptcxJ2y",
      "authorship_tag": "ABX9TyMCLoqTmxWVoOuTFV8KPmhx",
      "include_colab_link": true
    },
    "kernelspec": {
      "name": "python3",
      "display_name": "Python 3"
    },
    "language_info": {
      "name": "python"
    }
  },
  "cells": [
    {
      "cell_type": "markdown",
      "metadata": {
        "id": "view-in-github",
        "colab_type": "text"
      },
      "source": [
        "<a href=\"https://colab.research.google.com/github/JL-plusUltra/DataScience/blob/main/MVL_NLP_sentiment.ipynb\" target=\"_parent\"><img src=\"https://colab.research.google.com/assets/colab-badge.svg\" alt=\"Open In Colab\"/></a>"
      ]
    },
    {
      "cell_type": "code",
      "metadata": {
        "id": "k6Nqia41GW-H"
      },
      "source": [
        "import numpy as np\n",
        "import pandas as pd\n",
        "import matplotlib.pyplot as plt\n",
        "from scipy.stats import iqr \n",
        "from scipy import stats"
      ],
      "execution_count": 1,
      "outputs": []
    },
    {
      "cell_type": "code",
      "metadata": {
        "colab": {
          "base_uri": "https://localhost:8080/"
        },
        "id": "dESQsnT7KhCZ",
        "outputId": "edad42f6-408e-4547-8f49-40a9ffea142f"
      },
      "source": [
        "import numpy as np\n",
        "import pandas as pd\n",
        "import matplotlib.pyplot as plt\n",
        "from IPython import display\n",
        "import math\n",
        "from pprint import pprint\n",
        "import seaborn as sns\n",
        "import tensorflow as tf\n",
        "import string\n",
        "from tensorflow.keras.layers import TextVectorization\n",
        "import re\n",
        "import nltk\n",
        "nltk.download('vader_lexicon')\n",
        "\n",
        "from nltk import word_tokenize\n",
        "nltk.download('punkt')\n",
        "from nltk.stem import WordNetLemmatizer\n",
        "nltk.download('wordnet')\n",
        "from nltk.stem.porter import PorterStemmer\n",
        "from nltk.sentiment.vader import SentimentIntensityAnalyzer as SIA\n",
        "import numpy as np\n",
        "# Import stopwords with nltk.\n",
        "from nltk.corpus import stopwords\n",
        "nltk.download('stopwords')\n",
        "stop = stopwords.words('english')"
      ],
      "execution_count": null,
      "outputs": [
        {
          "output_type": "stream",
          "name": "stdout",
          "text": [
            "[nltk_data] Downloading package vader_lexicon to /root/nltk_data...\n",
            "[nltk_data]   Package vader_lexicon is already up-to-date!\n",
            "[nltk_data] Downloading package punkt to /root/nltk_data...\n",
            "[nltk_data]   Package punkt is already up-to-date!\n",
            "[nltk_data] Downloading package wordnet to /root/nltk_data...\n",
            "[nltk_data]   Package wordnet is already up-to-date!\n",
            "[nltk_data] Downloading package stopwords to /root/nltk_data...\n",
            "[nltk_data]   Package stopwords is already up-to-date!\n"
          ]
        },
        {
          "output_type": "stream",
          "name": "stderr",
          "text": [
            "/usr/local/lib/python3.7/dist-packages/nltk/twitter/__init__.py:20: UserWarning: The twython library has not been installed. Some functionality from the twitter package will not be available.\n",
            "  warnings.warn(\"The twython library has not been installed. \"\n"
          ]
        }
      ]
    },
    {
      "cell_type": "code",
      "metadata": {
        "id": "9DhEYk1ZGryo"
      },
      "source": [
        "def softmax(h):\n",
        "  return (np.exp(h.T)/np.sum(np.exp(h), axis=1)).T\n",
        "\n",
        "def cross_entropy(Y, P_hat):\n",
        "  return -(1/len(Y))*np.sum(np.sum(Y*np.log(P_hat),axis=1),axis=0)\n",
        "\n",
        "def accuarcy(y, y_hat):\n",
        "  return np.mean(y==y_hat)\n",
        "\n",
        "def indices_to_one_hot(data, nb_classes):\n",
        "  targets = np.array(data).reshape(-1)\n",
        "  return np.eye(nb_classes)[targets]\n"
      ],
      "execution_count": null,
      "outputs": []
    },
    {
      "cell_type": "code",
      "metadata": {
        "id": "P9przvNXGvy7"
      },
      "source": [
        "class MVLogisticRegression():\n",
        "\n",
        "  def __init__(self,thresh=0.5):\n",
        "    self.thresh = thresh\n",
        "\n",
        "  def __forward__(self,X):\n",
        "    return softmax(X@self.W + self.B)\n",
        "\n",
        "  def fit(self, X, y, eta=2e-1, epochs=1e3, show_curve=False):\n",
        "    epochs = int(epochs)\n",
        "    N,D = X.shape\n",
        "    K= len(np.unique(y))\n",
        "    y_values= np.unique(y, return_index=False)\n",
        "    Y= indices_to_one_hot(y, K).astype(int)\n",
        "\n",
        "    self.W=np.random.randn(D,K)\n",
        "    self.B = np.random.randn(1,K)\n",
        "\n",
        "    J= np.zeros(int(epochs))\n",
        "\n",
        "    for epoch in range(epochs):\n",
        "      P_hat= self.__forward__(X)\n",
        "      J[epoch]=cross_entropy(Y, P_hat)\n",
        "\n",
        "      self.W -=  eta*(1/N)*X.T@(P_hat-Y)\n",
        "      self.B -= eta*(1/N)*np.sum(P_hat-Y,axis=0)\n",
        "\n",
        "    if show_curve:\n",
        "      plt.figure()\n",
        "      plt.plot(J)\n",
        "      plt.xlabel(\"epochs\")\n",
        "      plt.ylabel(\"$\\mathcal{J}$\")\n",
        "      plt.title(\"Training Curve\")\n",
        "\n",
        "  \n",
        "\n",
        "  def predict(self, X):\n",
        "    return np.argmax(self.__forward__(X), axis=1)"
      ],
      "execution_count": null,
      "outputs": []
    },
    {
      "cell_type": "code",
      "metadata": {
        "colab": {
          "base_uri": "https://localhost:8080/"
        },
        "id": "rzQI3CucYP6H",
        "outputId": "7c8dc828-72f6-4704-c4c4-959b4910c906"
      },
      "source": [
        "sentence = input(\"Write your sentence here :\")"
      ],
      "execution_count": null,
      "outputs": [
        {
          "name": "stdout",
          "output_type": "stream",
          "text": [
            "Write your sentence here :What a cute dog.\n"
          ]
        }
      ]
    },
    {
      "cell_type": "code",
      "metadata": {
        "colab": {
          "base_uri": "https://localhost:8080/",
          "height": 35
        },
        "id": "PDTc_bDEYf2E",
        "outputId": "1686be29-c994-490c-a996-07daeca10c7a"
      },
      "source": [
        "sentence"
      ],
      "execution_count": null,
      "outputs": [
        {
          "output_type": "execute_result",
          "data": {
            "application/vnd.google.colaboratory.intrinsic+json": {
              "type": "string"
            },
            "text/plain": [
              "'You scurvy dog!'"
            ]
          },
          "metadata": {},
          "execution_count": 6
        }
      ]
    },
    {
      "cell_type": "code",
      "metadata": {
        "id": "xraAQAD6Kn9v"
      },
      "source": [
        "###################### Load noisy words #############################\n",
        "data = pd.read_csv('/content/drive/MyDrive/jesse lopez - UglyWords1 - Sheet1.csv')"
      ],
      "execution_count": null,
      "outputs": []
    },
    {
      "cell_type": "code",
      "metadata": {
        "colab": {
          "base_uri": "https://localhost:8080/"
        },
        "id": "90zsuk_EKssh",
        "outputId": "a0cb5e05-3c48-4d15-f941-e421e4c11a13"
      },
      "source": [
        "############################ Clean sentance structure #################################\n",
        "my_text = pd.read_csv('/content/drive/MyDrive/jesse lopez - UglyWords1 - Sheet1.csv')\n",
        "my_text['string'] = my_text['string'].str.replace('http\\S+|www.\\S+', '', case=False)\n",
        "my_text = my_text.iloc[:,2]\n",
        "my_text.head(5)"
      ],
      "execution_count": null,
      "outputs": [
        {
          "output_type": "execute_result",
          "data": {
            "text/plain": [
              "0                  *screams in 25 different languages*\n",
              "1    Families to sue over Legionnaires: More than 4...\n",
              "2    Pandemonium In Aba As Woman Delivers Baby With...\n",
              "3    My emotions are a train wreck. My body is a tr...\n",
              "4    Alton brown just did a livestream and he burne...\n",
              "Name: string, dtype: object"
            ]
          },
          "metadata": {},
          "execution_count": 8
        }
      ]
    },
    {
      "cell_type": "code",
      "metadata": {
        "colab": {
          "base_uri": "https://localhost:8080/"
        },
        "id": "95f2wOVWK2K7",
        "outputId": "9541dfdd-c7ad-4912-e341-9b8da75fae75"
      },
      "source": [
        "############################## Create sentiment polarity from text ######################\n",
        "sia = SIA()\n",
        "\n",
        "results = []\n",
        "\n",
        "for line in data['string']:\n",
        "    pol_score = sia.polarity_scores(line)\n",
        "    pol_score['headline'] = line\n",
        "    results.append(pol_score)\n",
        "\n",
        "pprint(results[:3], width=100)"
      ],
      "execution_count": null,
      "outputs": [
        {
          "output_type": "stream",
          "name": "stdout",
          "text": [
            "[{'compound': 0.0,\n",
            "  'headline': '*screams in 25 different languages*',\n",
            "  'neg': 0.0,\n",
            "  'neu': 1.0,\n",
            "  'pos': 0.0},\n",
            " {'compound': -0.6249,\n",
            "  'headline': 'Families to sue over Legionnaires: More than 40 families affected by the fatal '\n",
            "              \"outbreak of Legionnaires' disea... http://t.co/ZA4AXFJSVB\",\n",
            "  'neg': 0.242,\n",
            "  'neu': 0.758,\n",
            "  'pos': 0.0},\n",
            " {'compound': 0.0,\n",
            "  'headline': 'Pandemonium In Aba As Woman Delivers Baby Without Face (Photos) - '\n",
            "              'http://t.co/c5u9qshhnb',\n",
            "  'neg': 0.0,\n",
            "  'neu': 1.0,\n",
            "  'pos': 0.0}]\n"
          ]
        }
      ]
    },
    {
      "cell_type": "code",
      "metadata": {
        "id": "tVpUG7S5LHYZ"
      },
      "source": [
        "################## Load clean data into a dataframe ###########################\n",
        "df = pd.DataFrame.from_records(results)\n",
        "df['headline']=df['headline'].str.replace('http\\S+|www.\\S+', '', case=False)"
      ],
      "execution_count": null,
      "outputs": []
    },
    {
      "cell_type": "code",
      "metadata": {
        "colab": {
          "base_uri": "https://localhost:8080/",
          "height": 204
        },
        "id": "Yb-EDQ95LNCF",
        "outputId": "c57844ef-2975-460b-8c81-8b80574ca34d"
      },
      "source": [
        "################## Create labels 0:negative 1:nuetral 2:positive   ###############################\n",
        "df['label'] = 1\n",
        "df.loc[df['compound'] > 0.3, 'label'] = 2\n",
        "df.loc[df['compound'] < -0.3, 'label'] = 0\n",
        "df.head()"
      ],
      "execution_count": null,
      "outputs": [
        {
          "output_type": "execute_result",
          "data": {
            "text/html": [
              "<div>\n",
              "<style scoped>\n",
              "    .dataframe tbody tr th:only-of-type {\n",
              "        vertical-align: middle;\n",
              "    }\n",
              "\n",
              "    .dataframe tbody tr th {\n",
              "        vertical-align: top;\n",
              "    }\n",
              "\n",
              "    .dataframe thead th {\n",
              "        text-align: right;\n",
              "    }\n",
              "</style>\n",
              "<table border=\"1\" class=\"dataframe\">\n",
              "  <thead>\n",
              "    <tr style=\"text-align: right;\">\n",
              "      <th></th>\n",
              "      <th>neg</th>\n",
              "      <th>neu</th>\n",
              "      <th>pos</th>\n",
              "      <th>compound</th>\n",
              "      <th>headline</th>\n",
              "      <th>label</th>\n",
              "    </tr>\n",
              "  </thead>\n",
              "  <tbody>\n",
              "    <tr>\n",
              "      <th>0</th>\n",
              "      <td>0.000</td>\n",
              "      <td>1.000</td>\n",
              "      <td>0.000</td>\n",
              "      <td>0.0000</td>\n",
              "      <td>*screams in 25 different languages*</td>\n",
              "      <td>1</td>\n",
              "    </tr>\n",
              "    <tr>\n",
              "      <th>1</th>\n",
              "      <td>0.242</td>\n",
              "      <td>0.758</td>\n",
              "      <td>0.000</td>\n",
              "      <td>-0.6249</td>\n",
              "      <td>Families to sue over Legionnaires: More than 4...</td>\n",
              "      <td>0</td>\n",
              "    </tr>\n",
              "    <tr>\n",
              "      <th>2</th>\n",
              "      <td>0.000</td>\n",
              "      <td>1.000</td>\n",
              "      <td>0.000</td>\n",
              "      <td>0.0000</td>\n",
              "      <td>Pandemonium In Aba As Woman Delivers Baby With...</td>\n",
              "      <td>1</td>\n",
              "    </tr>\n",
              "    <tr>\n",
              "      <th>3</th>\n",
              "      <td>0.492</td>\n",
              "      <td>0.508</td>\n",
              "      <td>0.000</td>\n",
              "      <td>-0.8271</td>\n",
              "      <td>My emotions are a train wreck. My body is a tr...</td>\n",
              "      <td>0</td>\n",
              "    </tr>\n",
              "    <tr>\n",
              "      <th>4</th>\n",
              "      <td>0.000</td>\n",
              "      <td>0.905</td>\n",
              "      <td>0.095</td>\n",
              "      <td>0.2960</td>\n",
              "      <td>Alton brown just did a livestream and he burne...</td>\n",
              "      <td>1</td>\n",
              "    </tr>\n",
              "  </tbody>\n",
              "</table>\n",
              "</div>"
            ],
            "text/plain": [
              "     neg    neu  ...                                           headline  label\n",
              "0  0.000  1.000  ...                *screams in 25 different languages*      1\n",
              "1  0.242  0.758  ...  Families to sue over Legionnaires: More than 4...      0\n",
              "2  0.000  1.000  ...  Pandemonium In Aba As Woman Delivers Baby With...      1\n",
              "3  0.492  0.508  ...  My emotions are a train wreck. My body is a tr...      0\n",
              "4  0.000  0.905  ...  Alton brown just did a livestream and he burne...      1\n",
              "\n",
              "[5 rows x 6 columns]"
            ]
          },
          "metadata": {},
          "execution_count": 11
        }
      ]
    },
    {
      "cell_type": "code",
      "metadata": {
        "colab": {
          "base_uri": "https://localhost:8080/",
          "height": 204
        },
        "id": "mvtaDscuLa8q",
        "outputId": "8cc3edf5-45bb-4c43-e109-40cc8fa82047"
      },
      "source": [
        "############################### correlation matrix ###########################\n",
        "Xcor=df\n",
        "corM = Xcor.corr(method ='pearson')\n",
        "corM"
      ],
      "execution_count": null,
      "outputs": [
        {
          "output_type": "execute_result",
          "data": {
            "text/html": [
              "<div>\n",
              "<style scoped>\n",
              "    .dataframe tbody tr th:only-of-type {\n",
              "        vertical-align: middle;\n",
              "    }\n",
              "\n",
              "    .dataframe tbody tr th {\n",
              "        vertical-align: top;\n",
              "    }\n",
              "\n",
              "    .dataframe thead th {\n",
              "        text-align: right;\n",
              "    }\n",
              "</style>\n",
              "<table border=\"1\" class=\"dataframe\">\n",
              "  <thead>\n",
              "    <tr style=\"text-align: right;\">\n",
              "      <th></th>\n",
              "      <th>neg</th>\n",
              "      <th>neu</th>\n",
              "      <th>pos</th>\n",
              "      <th>compound</th>\n",
              "      <th>label</th>\n",
              "    </tr>\n",
              "  </thead>\n",
              "  <tbody>\n",
              "    <tr>\n",
              "      <th>neg</th>\n",
              "      <td>1.000000</td>\n",
              "      <td>-0.669532</td>\n",
              "      <td>-0.267839</td>\n",
              "      <td>-0.753816</td>\n",
              "      <td>-0.706200</td>\n",
              "    </tr>\n",
              "    <tr>\n",
              "      <th>neu</th>\n",
              "      <td>-0.669532</td>\n",
              "      <td>1.000000</td>\n",
              "      <td>-0.536317</td>\n",
              "      <td>0.118756</td>\n",
              "      <td>0.097318</td>\n",
              "    </tr>\n",
              "    <tr>\n",
              "      <th>pos</th>\n",
              "      <td>-0.267839</td>\n",
              "      <td>-0.536317</td>\n",
              "      <td>1.000000</td>\n",
              "      <td>0.702494</td>\n",
              "      <td>0.676186</td>\n",
              "    </tr>\n",
              "    <tr>\n",
              "      <th>compound</th>\n",
              "      <td>-0.753816</td>\n",
              "      <td>0.118756</td>\n",
              "      <td>0.702494</td>\n",
              "      <td>1.000000</td>\n",
              "      <td>0.946358</td>\n",
              "    </tr>\n",
              "    <tr>\n",
              "      <th>label</th>\n",
              "      <td>-0.706200</td>\n",
              "      <td>0.097318</td>\n",
              "      <td>0.676186</td>\n",
              "      <td>0.946358</td>\n",
              "      <td>1.000000</td>\n",
              "    </tr>\n",
              "  </tbody>\n",
              "</table>\n",
              "</div>"
            ],
            "text/plain": [
              "               neg       neu       pos  compound     label\n",
              "neg       1.000000 -0.669532 -0.267839 -0.753816 -0.706200\n",
              "neu      -0.669532  1.000000 -0.536317  0.118756  0.097318\n",
              "pos      -0.267839 -0.536317  1.000000  0.702494  0.676186\n",
              "compound -0.753816  0.118756  0.702494  1.000000  0.946358\n",
              "label    -0.706200  0.097318  0.676186  0.946358  1.000000"
            ]
          },
          "metadata": {},
          "execution_count": 12
        }
      ]
    },
    {
      "cell_type": "code",
      "metadata": {
        "id": "Tt3nQfQQLhzU"
      },
      "source": [
        "#################################### write csv of cleaned words ##########################\n",
        "#df.to_csv('clean_dirty_words.csv')"
      ],
      "execution_count": null,
      "outputs": []
    },
    {
      "cell_type": "code",
      "metadata": {
        "colab": {
          "base_uri": "https://localhost:8080/",
          "height": 483
        },
        "id": "DUbHMp29LpBk",
        "outputId": "ca118e1e-8252-4f55-d616-0b7b543b794f"
      },
      "source": [
        "#################################### Plot sentiment freqeuncies ###############################\n",
        "fig, ax = plt.subplots(figsize=(8, 8))\n",
        "\n",
        "counts = df.label.value_counts(normalize=True) * 100\n",
        "\n",
        "sns.barplot(x=counts.index, y=counts, ax=ax)\n",
        "\n",
        "ax.set_xticklabels(['Negative', 'Neutral', 'Positive'])\n",
        "ax.set_ylabel(\"Percentage\")\n",
        "\n",
        "plt.show()"
      ],
      "execution_count": null,
      "outputs": [
        {
          "output_type": "display_data",
          "data": {
            "image/png": "[encoded data removed]",
            "text/plain": [
              "<Figure size 576x576 with 1 Axes>"
            ]
          },
          "metadata": {
            "needs_background": "light"
          }
        }
      ]
    },
    {
      "cell_type": "code",
      "metadata": {
        "colab": {
          "base_uri": "https://localhost:8080/",
          "height": 204
        },
        "id": "RMLo8SWBG385",
        "outputId": "fb533c5c-9dd8-41f8-ee69-817849a14cec"
      },
      "source": [
        "data = pd.read_csv('/content/clean_dirty_words.csv')\n",
        "data.head()"
      ],
      "execution_count": null,
      "outputs": [
        {
          "output_type": "execute_result",
          "data": {
            "text/html": [
              "<div>\n",
              "<style scoped>\n",
              "    .dataframe tbody tr th:only-of-type {\n",
              "        vertical-align: middle;\n",
              "    }\n",
              "\n",
              "    .dataframe tbody tr th {\n",
              "        vertical-align: top;\n",
              "    }\n",
              "\n",
              "    .dataframe thead th {\n",
              "        text-align: right;\n",
              "    }\n",
              "</style>\n",
              "<table border=\"1\" class=\"dataframe\">\n",
              "  <thead>\n",
              "    <tr style=\"text-align: right;\">\n",
              "      <th></th>\n",
              "      <th>neg</th>\n",
              "      <th>neu</th>\n",
              "      <th>pos</th>\n",
              "      <th>compound</th>\n",
              "      <th>headline</th>\n",
              "      <th>label</th>\n",
              "    </tr>\n",
              "  </thead>\n",
              "  <tbody>\n",
              "    <tr>\n",
              "      <th>0</th>\n",
              "      <td>0.000</td>\n",
              "      <td>1.000</td>\n",
              "      <td>0.000</td>\n",
              "      <td>0.0000</td>\n",
              "      <td>*screams in 25 different languages*</td>\n",
              "      <td>1</td>\n",
              "    </tr>\n",
              "    <tr>\n",
              "      <th>1</th>\n",
              "      <td>0.242</td>\n",
              "      <td>0.758</td>\n",
              "      <td>0.000</td>\n",
              "      <td>-0.6249</td>\n",
              "      <td>Families to sue over Legionnaires: More than 4...</td>\n",
              "      <td>0</td>\n",
              "    </tr>\n",
              "    <tr>\n",
              "      <th>2</th>\n",
              "      <td>0.000</td>\n",
              "      <td>1.000</td>\n",
              "      <td>0.000</td>\n",
              "      <td>0.0000</td>\n",
              "      <td>Pandemonium In Aba As Woman Delivers Baby With...</td>\n",
              "      <td>1</td>\n",
              "    </tr>\n",
              "    <tr>\n",
              "      <th>3</th>\n",
              "      <td>0.492</td>\n",
              "      <td>0.508</td>\n",
              "      <td>0.000</td>\n",
              "      <td>-0.8271</td>\n",
              "      <td>My emotions are a train wreck. My body is a tr...</td>\n",
              "      <td>0</td>\n",
              "    </tr>\n",
              "    <tr>\n",
              "      <th>4</th>\n",
              "      <td>0.000</td>\n",
              "      <td>0.905</td>\n",
              "      <td>0.095</td>\n",
              "      <td>0.2960</td>\n",
              "      <td>Alton brown just did a livestream and he burne...</td>\n",
              "      <td>1</td>\n",
              "    </tr>\n",
              "  </tbody>\n",
              "</table>\n",
              "</div>"
            ],
            "text/plain": [
              "     neg    neu  ...                                           headline  label\n",
              "0  0.000  1.000  ...                *screams in 25 different languages*      1\n",
              "1  0.242  0.758  ...  Families to sue over Legionnaires: More than 4...      0\n",
              "2  0.000  1.000  ...  Pandemonium In Aba As Woman Delivers Baby With...      1\n",
              "3  0.492  0.508  ...  My emotions are a train wreck. My body is a tr...      0\n",
              "4  0.000  0.905  ...  Alton brown just did a livestream and he burne...      1\n",
              "\n",
              "[5 rows x 6 columns]"
            ]
          },
          "metadata": {},
          "execution_count": 15
        }
      ]
    },
    {
      "cell_type": "code",
      "metadata": {
        "colab": {
          "base_uri": "https://localhost:8080/"
        },
        "id": "chWo4RUkHF1f",
        "outputId": "3f88cdc6-ecc1-46df-b8fe-6baf3993b113"
      },
      "source": [
        "data.dtypes"
      ],
      "execution_count": null,
      "outputs": [
        {
          "output_type": "execute_result",
          "data": {
            "text/plain": [
              "neg         float64\n",
              "neu         float64\n",
              "pos         float64\n",
              "compound    float64\n",
              "headline     object\n",
              "label         int64\n",
              "dtype: object"
            ]
          },
          "metadata": {},
          "execution_count": 16
        }
      ]
    },
    {
      "cell_type": "code",
      "metadata": {
        "id": "poclG2HiHKB6"
      },
      "source": [
        "#################################### Do an 85 and 15 %split of data ###################\n",
        "train_data = data.sample(frac=0.75)\n",
        "test_data = data.loc[~data.index.isin(train_data.index)]\n",
        "\n",
        "############################## Save train and test data for future use ######################\n",
        "#train_data.to_csv('dirty_training.csv')\n",
        "#test_data.to_csv('dirty_testing.csv')\n",
        "\n",
        "######################### Load saved train and test data ##########################\n",
        "#train_data = pd.read_csv('/content/dirty_training.csv')\n",
        "#test_data = pd.read_csv('/content/dirty_testing.csv')"
      ],
      "execution_count": null,
      "outputs": []
    },
    {
      "cell_type": "code",
      "metadata": {
        "id": "YIvq7fqvHb07"
      },
      "source": [
        "X_train = train_data[['neu','compound']].copy()\n",
        "X_train = X_train.to_numpy()"
      ],
      "execution_count": null,
      "outputs": []
    },
    {
      "cell_type": "code",
      "metadata": {
        "id": "-O52jw4xHl-V"
      },
      "source": [
        "y_train = train_data['label'].copy()\n",
        "y_train = y_train.to_numpy()"
      ],
      "execution_count": null,
      "outputs": []
    },
    {
      "cell_type": "code",
      "metadata": {
        "id": "0qnzHQMsHuWD"
      },
      "source": [
        "logreg = MVLogisticRegression()"
      ],
      "execution_count": null,
      "outputs": []
    },
    {
      "cell_type": "code",
      "metadata": {
        "colab": {
          "base_uri": "https://localhost:8080/",
          "height": 295
        },
        "id": "VoB5x_F9Hyj-",
        "outputId": "d2f96327-5baf-4665-f6e8-4ce5d3d57578"
      },
      "source": [
        "logreg.fit(X_train, y_train, epochs=8e3, show_curve=True)"
      ],
      "execution_count": null,
      "outputs": [
        {
          "output_type": "display_data",
          "data": {
            "image/png": "[encoded data removed]",
            "text/plain": [
              "<Figure size 432x288 with 1 Axes>"
            ]
          },
          "metadata": {
            "needs_background": "light"
          }
        }
      ]
    },
    {
      "cell_type": "code",
      "metadata": {
        "id": "3kX9_cJKIjaD"
      },
      "source": [
        "y_hat_train = logreg.predict(X_train)"
      ],
      "execution_count": null,
      "outputs": []
    },
    {
      "cell_type": "code",
      "metadata": {
        "colab": {
          "base_uri": "https://localhost:8080/"
        },
        "id": "WATV0_YaIrdz",
        "outputId": "57cc21c9-2b94-40ed-9df1-4e742f05b05c"
      },
      "source": [
        "accuarcy(y_train,y_hat_train)"
      ],
      "execution_count": null,
      "outputs": [
        {
          "output_type": "execute_result",
          "data": {
            "text/plain": [
              "0.9849785407725322"
            ]
          },
          "metadata": {},
          "execution_count": 23
        }
      ]
    },
    {
      "cell_type": "code",
      "metadata": {
        "id": "6l043HHGIwVk"
      },
      "source": [
        "X_test = test_data[['neu','compound']].copy()\n",
        "X_test = X_test.to_numpy()"
      ],
      "execution_count": null,
      "outputs": []
    },
    {
      "cell_type": "code",
      "metadata": {
        "id": "J5IUeI1EI7xb"
      },
      "source": [
        "y_test = test_data['label'].copy()\n",
        "y_test = y_test.to_numpy()"
      ],
      "execution_count": null,
      "outputs": []
    },
    {
      "cell_type": "code",
      "metadata": {
        "id": "ULr_mGsbJpXG"
      },
      "source": [
        "y_hat_test = logreg.predict(X_test)"
      ],
      "execution_count": null,
      "outputs": []
    },
    {
      "cell_type": "code",
      "metadata": {
        "colab": {
          "base_uri": "https://localhost:8080/"
        },
        "id": "LEM-VtgsJv6q",
        "outputId": "b88f7042-8d0b-49de-f92d-b8b995cc764a"
      },
      "source": [
        "accuarcy(y_test, y_hat_test)"
      ],
      "execution_count": null,
      "outputs": [
        {
          "output_type": "execute_result",
          "data": {
            "text/plain": [
              "0.9871244635193133"
            ]
          },
          "metadata": {},
          "execution_count": 27
        }
      ]
    },
    {
      "cell_type": "code",
      "metadata": {
        "colab": {
          "base_uri": "https://localhost:8080/"
        },
        "id": "ibYOEEiOL0Xj",
        "outputId": "0ca35733-8911-4346-d881-efabf6cc7da2"
      },
      "source": [
        "######################################## Give the user input to analze polarity #####################################\n",
        "\n",
        "ind_pol_score_given = sia.polarity_scores(sentence)\n",
        "print(ind_pol_score_given)"
      ],
      "execution_count": null,
      "outputs": [
        {
          "output_type": "stream",
          "name": "stdout",
          "text": [
            "{'neg': 0.0, 'neu': 0.4, 'pos': 0.6, 'compound': 0.4588}\n"
          ]
        }
      ]
    },
    {
      "cell_type": "code",
      "metadata": {
        "colab": {
          "base_uri": "https://localhost:8080/"
        },
        "id": "EpCAwJ0ZMU3Y",
        "outputId": "ee220c44-ad97-4aca-b00b-f7b87069443d"
      },
      "source": [
        "########################### give it neu and compound #############################\n",
        "X_person = [[ind_pol_score_given.get('neu'),ind_pol_score_given.get('compound')]]\n",
        "X_person"
      ],
      "execution_count": null,
      "outputs": [
        {
          "output_type": "execute_result",
          "data": {
            "text/plain": [
              "[[0.4, 0.4588]]"
            ]
          },
          "metadata": {},
          "execution_count": 33
        }
      ]
    },
    {
      "cell_type": "code",
      "metadata": {
        "colab": {
          "base_uri": "https://localhost:8080/"
        },
        "id": "SNCSiMzLMmh4",
        "outputId": "c01e3f8c-2537-4bec-8ef7-cd8d821ca380"
      },
      "source": [
        "############################# Predict sentiment from this info #######################\n",
        "############################# 0:negative 1:neutral 2:positive ########################\n",
        "y_hat_person = logreg.predict(X_person)\n",
        "y_hat_person"
      ],
      "execution_count": null,
      "outputs": [
        {
          "output_type": "execute_result",
          "data": {
            "text/plain": [
              "array([2])"
            ]
          },
          "metadata": {},
          "execution_count": 34
        }
      ]
    }
  ]
}