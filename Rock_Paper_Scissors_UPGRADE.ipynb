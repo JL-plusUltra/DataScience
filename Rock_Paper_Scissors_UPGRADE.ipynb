{
  "nbformat": 4,
  "nbformat_minor": 0,
  "metadata": {
    "colab": {
      "name": "Rock_Paper_Scissors_UPGRADE.ipynb",
      "provenance": [],
      "authorship_tag": "ABX9TyPX5+SDdcK7xRpFuKI0/PfX",
      "include_colab_link": true
    },
    "kernelspec": {
      "name": "python3",
      "display_name": "Python 3"
    },
    "language_info": {
      "name": "python"
    }
  },
  "cells": [
    {
      "cell_type": "markdown",
      "metadata": {
        "id": "view-in-github",
        "colab_type": "text"
      },
      "source": [
        "<a href=\"https://colab.research.google.com/github/JL-plusUltra/DataScience/blob/main/Rock_Paper_Scissors_UPGRADE.ipynb\" target=\"_parent\"><img src=\"https://colab.research.google.com/assets/colab-badge.svg\" alt=\"Open In Colab\"/></a>"
      ]
    },
    {
      "cell_type": "code",
      "metadata": {
        "id": "Wa4t6XLfnQP8"
      },
      "source": [
        "import random"
      ],
      "execution_count": null,
      "outputs": []
    },
    {
      "cell_type": "code",
      "metadata": {
        "id": "p7WAR60wnVMc"
      },
      "source": [
        "choices = [\"rock\", \"paper\", \"scissors\"]"
      ],
      "execution_count": null,
      "outputs": []
    },
    {
      "cell_type": "code",
      "metadata": {
        "id": "IoFnqn_NnctW"
      },
      "source": [
        "beat = {\n",
        "    \"rock\" : [\"scissors\"],\n",
        "    \"scissors\" : [\"paper\"],\n",
        "    \"paper\" : [\"rock\"],\n",
        "}"
      ],
      "execution_count": null,
      "outputs": []
    },
    {
      "cell_type": "code",
      "metadata": {
        "id": "NwD0sMV6n0lf"
      },
      "source": [
        "message = {\n",
        "    (\"rock\" , \"scissors\"): \"Smashes\",\n",
        "    (\"scissors\", \"paper\"): \"Cuts\",\n",
        "    (\"paper\", \"rock\"): \"Covers\",\n",
        "}"
      ],
      "execution_count": null,
      "outputs": []
    },
    {
      "cell_type": "code",
      "metadata": {
        "colab": {
          "base_uri": "https://localhost:8080/"
        },
        "id": "tXRyOxO9ofXd",
        "outputId": "794ec3bf-25e6-47b4-e7fc-b39cd9d2427f"
      },
      "source": [
        "def show_winner(user_input, com_input):\n",
        "  if user_input == com_input:\n",
        "    print(f\"\\nWe both chose {user_input} tie\")\n",
        "  elif user_input not in beat:\n",
        "    print(f\"\\n {user_input} is an invalid throw. \")\n",
        "  else: \n",
        "    user_wins = com_input in beat[user_input]\n",
        "    if user_wins:\n",
        "      verb = message[(user_input, com_input)]\n",
        "      print(f\" {user_input.capitalize()} {verb} {com_input}, you win! \")\n",
        "    else:\n",
        "      verb = message[(com_input, user_input)]\n",
        "      print(f\"{com_input} {verb} {user_input}, you lose!\")\n",
        "\n",
        "while True:\n",
        "  print(\"Make your throw...\")\n",
        "  user_input = input(\" Choose rock, paper, scissors: \")\n",
        "  com_input = random.choice(choices)\n",
        "  show_winner(user_input,com_input)\n",
        "  again = input(\"You want some more? '(y,n):' \" )\n",
        "\n",
        "  if again.lower() == \"n\":\n",
        "    break\n",
        "print(\"Goodbye Loser!\")"
      ],
      "execution_count": null,
      "outputs": [
        {
          "output_type": "stream",
          "name": "stdout",
          "text": [
            "Make your throw...\n",
            " Choose rock, paper, scissors: paper\n",
            "scissors Cuts paper, you lose!\n",
            "You want some more? '(y,n):' n\n",
            "Goodbye Loser!\n"
          ]
        }
      ]
    }
  ]
}