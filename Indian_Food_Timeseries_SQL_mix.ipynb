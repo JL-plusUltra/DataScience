{
  "nbformat": 4,
  "nbformat_minor": 0,
  "metadata": {
    "colab": {
      "name": "Indian_Food_Timeseries_SQL_mix.ipynb",
      "provenance": [],
      "authorship_tag": "ABX9TyNI2vpqeyk5fgI3k5UbQ2Ft",
      "include_colab_link": true
    },
    "kernelspec": {
      "name": "python3",
      "display_name": "Python 3"
    },
    "language_info": {
      "name": "python"
    }
  },
  "cells": [
    {
      "cell_type": "markdown",
      "metadata": {
        "id": "view-in-github",
        "colab_type": "text"
      },
      "source": [
        "<a href=\"https://colab.research.google.com/github/JL-plusUltra/DataScience/blob/main/Indian_Food_Timeseries_SQL_mix.ipynb\" target=\"_parent\"><img src=\"https://colab.research.google.com/assets/colab-badge.svg\" alt=\"Open In Colab\"/></a>"
      ]
    },
    {
      "cell_type": "code",
      "metadata": {
        "id": "eOAdJUjg_efT"
      },
      "source": [
        "import pandas as pd\n",
        "import seaborn as sns\n",
        "import matplotlib.pyplot as plt\n",
        "from sklearn.model_selection import train_test_split\n",
        "from xgboost import XGBRegressor\n"
      ],
      "execution_count": null,
      "outputs": []
    },
    {
      "cell_type": "code",
      "metadata": {
        "id": "W7RxAYl1BQR8"
      },
      "source": [
        "from pandasql import sqldf\n",
        "pysqldf = lambda q: sqldf(q, globals())"
      ],
      "execution_count": null,
      "outputs": []
    },
    {
      "cell_type": "code",
      "metadata": {
        "colab": {
          "base_uri": "https://localhost:8080/",
          "height": 204
        },
        "id": "hZbxajOMBzd-",
        "outputId": "719e2a40-ab52-49e2-bdec-150f63853407"
      },
      "source": [
        "orders = pd.read_csv('/content/restaurant-1-orders.csv')\n",
        "#rename columns without spaces\n",
        "orders.columns =['number', 'timestamp', 'item', 'quantity', 'price', 'total_products_in_cart']\n",
        "orders.head(5)"
      ],
      "execution_count": null,
      "outputs": [
        {
          "output_type": "execute_result",
          "data": {
            "text/html": [
              "<div>\n",
              "<style scoped>\n",
              "    .dataframe tbody tr th:only-of-type {\n",
              "        vertical-align: middle;\n",
              "    }\n",
              "\n",
              "    .dataframe tbody tr th {\n",
              "        vertical-align: top;\n",
              "    }\n",
              "\n",
              "    .dataframe thead th {\n",
              "        text-align: right;\n",
              "    }\n",
              "</style>\n",
              "<table border=\"1\" class=\"dataframe\">\n",
              "  <thead>\n",
              "    <tr style=\"text-align: right;\">\n",
              "      <th></th>\n",
              "      <th>number</th>\n",
              "      <th>timestamp</th>\n",
              "      <th>item</th>\n",
              "      <th>quantity</th>\n",
              "      <th>price</th>\n",
              "      <th>total_products_in_cart</th>\n",
              "    </tr>\n",
              "  </thead>\n",
              "  <tbody>\n",
              "    <tr>\n",
              "      <th>0</th>\n",
              "      <td>16118</td>\n",
              "      <td>03/08/2019 20:25</td>\n",
              "      <td>Plain Papadum</td>\n",
              "      <td>2</td>\n",
              "      <td>0.80</td>\n",
              "      <td>6</td>\n",
              "    </tr>\n",
              "    <tr>\n",
              "      <th>1</th>\n",
              "      <td>16118</td>\n",
              "      <td>03/08/2019 20:25</td>\n",
              "      <td>King Prawn Balti</td>\n",
              "      <td>1</td>\n",
              "      <td>12.95</td>\n",
              "      <td>6</td>\n",
              "    </tr>\n",
              "    <tr>\n",
              "      <th>2</th>\n",
              "      <td>16118</td>\n",
              "      <td>03/08/2019 20:25</td>\n",
              "      <td>Garlic Naan</td>\n",
              "      <td>1</td>\n",
              "      <td>2.95</td>\n",
              "      <td>6</td>\n",
              "    </tr>\n",
              "    <tr>\n",
              "      <th>3</th>\n",
              "      <td>16118</td>\n",
              "      <td>03/08/2019 20:25</td>\n",
              "      <td>Mushroom Rice</td>\n",
              "      <td>1</td>\n",
              "      <td>3.95</td>\n",
              "      <td>6</td>\n",
              "    </tr>\n",
              "    <tr>\n",
              "      <th>4</th>\n",
              "      <td>16118</td>\n",
              "      <td>03/08/2019 20:25</td>\n",
              "      <td>Paneer Tikka Masala</td>\n",
              "      <td>1</td>\n",
              "      <td>8.95</td>\n",
              "      <td>6</td>\n",
              "    </tr>\n",
              "  </tbody>\n",
              "</table>\n",
              "</div>"
            ],
            "text/plain": [
              "   number         timestamp  ...  price  total_products_in_cart\n",
              "0   16118  03/08/2019 20:25  ...   0.80                       6\n",
              "1   16118  03/08/2019 20:25  ...  12.95                       6\n",
              "2   16118  03/08/2019 20:25  ...   2.95                       6\n",
              "3   16118  03/08/2019 20:25  ...   3.95                       6\n",
              "4   16118  03/08/2019 20:25  ...   8.95                       6\n",
              "\n",
              "[5 rows x 6 columns]"
            ]
          },
          "metadata": {},
          "execution_count": 7
        }
      ]
    },
    {
      "cell_type": "code",
      "metadata": {
        "id": "vkHSTShqCkit"
      },
      "source": [
        "orders['date'] =pd.to_datetime(orders['timestamp'].str[0:10])"
      ],
      "execution_count": null,
      "outputs": []
    },
    {
      "cell_type": "code",
      "metadata": {
        "id": "1tiDr5p5RAj2"
      },
      "source": [
        "#install the ipython-sql libray\n",
        "#!pip install ipython-sql"
      ],
      "execution_count": null,
      "outputs": []
    },
    {
      "cell_type": "code",
      "metadata": {
        "id": "vxwJI6VOBIYU"
      },
      "source": [
        "#!pip install pandasql"
      ],
      "execution_count": null,
      "outputs": []
    },
    {
      "cell_type": "code",
      "metadata": {
        "id": "kUXG20-QQ-Oc"
      },
      "source": [
        "# import sql\n",
        "import sqlite3"
      ],
      "execution_count": null,
      "outputs": []
    },
    {
      "cell_type": "code",
      "metadata": {
        "id": "NlzkVg8iRIXx"
      },
      "source": [
        "cnn = sqlite3.connect('jupyter_sql_tutorial.db')"
      ],
      "execution_count": null,
      "outputs": []
    },
    {
      "cell_type": "code",
      "metadata": {
        "colab": {
          "base_uri": "https://localhost:8080/",
          "height": 35
        },
        "id": "Q7LsTJSiRfyu",
        "outputId": "6dc7bbb1-8b7c-4a02-e200-61e1e92e3a61"
      },
      "source": [
        "%sql sqlite:///jupyter_sql_tutorial.db"
      ],
      "execution_count": null,
      "outputs": [
        {
          "output_type": "execute_result",
          "data": {
            "application/vnd.google.colaboratory.intrinsic+json": {
              "type": "string"
            },
            "text/plain": [
              "'Connected: @jupyter_sql_tutorial.db'"
            ]
          },
          "metadata": {},
          "execution_count": 20
        }
      ]
    },
    {
      "cell_type": "code",
      "metadata": {
        "id": "SfbfbYcshP2b"
      },
      "source": [
        "%reload_ext sql"
      ],
      "execution_count": null,
      "outputs": []
    },
    {
      "cell_type": "code",
      "metadata": {
        "colab": {
          "base_uri": "https://localhost:8080/"
        },
        "id": "SPiM6OqgRIU2",
        "outputId": "1b52137a-e176-453c-dcfe-6ccf83391150"
      },
      "source": [
        "orders.to_sql('food', cnn)\n",
        "%load_ext sql"
      ],
      "execution_count": null,
      "outputs": [
        {
          "output_type": "stream",
          "name": "stdout",
          "text": [
            "The sql extension is already loaded. To reload it, use:\n",
            "  %reload_ext sql\n"
          ]
        }
      ]
    },
    {
      "cell_type": "code",
      "metadata": {
        "id": "d6MfQ1e4Rhqj"
      },
      "source": [
        "db_query='''\n",
        "WITH distinct_orders AS (\n",
        "    SELECT DISTINCT \n",
        "      number,\n",
        "      DATE(date) AS date\n",
        "      FROM food\n",
        ")\n",
        "\n",
        "SELECT\n",
        "  date,\n",
        "  COUNT(*) AS num_orders\n",
        "FROM distinct_orders\n",
        "GROUP BY 1\n",
        "'''"
      ],
      "execution_count": null,
      "outputs": []
    },
    {
      "cell_type": "code",
      "metadata": {
        "colab": {
          "base_uri": "https://localhost:8080/"
        },
        "id": "8JDNvTyvhmIv",
        "outputId": "f27f0d65-f562-43c4-f3c5-3de93c061f79"
      },
      "source": [
        "result = %sql $db_query"
      ],
      "execution_count": null,
      "outputs": [
        {
          "output_type": "stream",
          "name": "stdout",
          "text": [
            " * sqlite:///jupyter_sql_tutorial.db\n",
            "Done.\n"
          ]
        }
      ]
    },
    {
      "cell_type": "code",
      "metadata": {
        "id": "AdkhejUMkDAd"
      },
      "source": [
        "data2 = pd.read_sql('WITH distinct_orders AS (SELECT DISTINCT number, DATE(date) AS date FROM food) SELECT date, COUNT(*) AS num_orders FROM distinct_orders GROUP BY 1',con=cnn)"
      ],
      "execution_count": null,
      "outputs": []
    },
    {
      "cell_type": "code",
      "metadata": {
        "id": "QKmw4Ny-nQ5D",
        "colab": {
          "base_uri": "https://localhost:8080/",
          "height": 419
        },
        "outputId": "6dc36a76-cb02-4921-a4f7-acd40bd0540f"
      },
      "source": [
        "data2"
      ],
      "execution_count": null,
      "outputs": [
        {
          "output_type": "execute_result",
          "data": {
            "text/html": [
              "<div>\n",
              "<style scoped>\n",
              "    .dataframe tbody tr th:only-of-type {\n",
              "        vertical-align: middle;\n",
              "    }\n",
              "\n",
              "    .dataframe tbody tr th {\n",
              "        vertical-align: top;\n",
              "    }\n",
              "\n",
              "    .dataframe thead th {\n",
              "        text-align: right;\n",
              "    }\n",
              "</style>\n",
              "<table border=\"1\" class=\"dataframe\">\n",
              "  <thead>\n",
              "    <tr style=\"text-align: right;\">\n",
              "      <th></th>\n",
              "      <th>date</th>\n",
              "      <th>num_orders</th>\n",
              "    </tr>\n",
              "  </thead>\n",
              "  <tbody>\n",
              "    <tr>\n",
              "      <th>0</th>\n",
              "      <td>2015-01-09</td>\n",
              "      <td>1</td>\n",
              "    </tr>\n",
              "    <tr>\n",
              "      <th>1</th>\n",
              "      <td>2015-01-10</td>\n",
              "      <td>7</td>\n",
              "    </tr>\n",
              "    <tr>\n",
              "      <th>2</th>\n",
              "      <td>2015-02-10</td>\n",
              "      <td>5</td>\n",
              "    </tr>\n",
              "    <tr>\n",
              "      <th>3</th>\n",
              "      <td>2015-08-09</td>\n",
              "      <td>3</td>\n",
              "    </tr>\n",
              "    <tr>\n",
              "      <th>4</th>\n",
              "      <td>2015-09-09</td>\n",
              "      <td>6</td>\n",
              "    </tr>\n",
              "    <tr>\n",
              "      <th>...</th>\n",
              "      <td>...</td>\n",
              "      <td>...</td>\n",
              "    </tr>\n",
              "    <tr>\n",
              "      <th>1202</th>\n",
              "      <td>2019-12-03</td>\n",
              "      <td>11</td>\n",
              "    </tr>\n",
              "    <tr>\n",
              "      <th>1203</th>\n",
              "      <td>2019-12-04</td>\n",
              "      <td>25</td>\n",
              "    </tr>\n",
              "    <tr>\n",
              "      <th>1204</th>\n",
              "      <td>2019-12-05</td>\n",
              "      <td>23</td>\n",
              "    </tr>\n",
              "    <tr>\n",
              "      <th>1205</th>\n",
              "      <td>2019-12-06</td>\n",
              "      <td>9</td>\n",
              "    </tr>\n",
              "    <tr>\n",
              "      <th>1206</th>\n",
              "      <td>2019-12-07</td>\n",
              "      <td>18</td>\n",
              "    </tr>\n",
              "  </tbody>\n",
              "</table>\n",
              "<p>1207 rows × 2 columns</p>\n",
              "</div>"
            ],
            "text/plain": [
              "            date  num_orders\n",
              "0     2015-01-09           1\n",
              "1     2015-01-10           7\n",
              "2     2015-02-10           5\n",
              "3     2015-08-09           3\n",
              "4     2015-09-09           6\n",
              "...          ...         ...\n",
              "1202  2019-12-03          11\n",
              "1203  2019-12-04          25\n",
              "1204  2019-12-05          23\n",
              "1205  2019-12-06           9\n",
              "1206  2019-12-07          18\n",
              "\n",
              "[1207 rows x 2 columns]"
            ]
          },
          "metadata": {},
          "execution_count": 65
        }
      ]
    },
    {
      "cell_type": "code",
      "metadata": {
        "id": "1wnodQmOku6B"
      },
      "source": [
        "#data2.to_sql('Restfood.sql', con=cnn)"
      ],
      "execution_count": null,
      "outputs": []
    },
    {
      "cell_type": "code",
      "metadata": {
        "id": "5Ow78my4ilTJ"
      },
      "source": [
        "#orders.to_sql('food.sql', con=cnn)"
      ],
      "execution_count": null,
      "outputs": []
    },
    {
      "cell_type": "code",
      "metadata": {
        "colab": {
          "base_uri": "https://localhost:8080/",
          "height": 111
        },
        "id": "Qo1adxupCguE",
        "outputId": "8b355ec5-17b6-4358-bace-b921c724bfad"
      },
      "source": [
        "orders.sample(10)"
      ],
      "execution_count": null,
      "outputs": [
        {
          "output_type": "execute_result",
          "data": {
            "text/html": [
              "<div>\n",
              "<style scoped>\n",
              "    .dataframe tbody tr th:only-of-type {\n",
              "        vertical-align: middle;\n",
              "    }\n",
              "\n",
              "    .dataframe tbody tr th {\n",
              "        vertical-align: top;\n",
              "    }\n",
              "\n",
              "    .dataframe thead th {\n",
              "        text-align: right;\n",
              "    }\n",
              "</style>\n",
              "<table border=\"1\" class=\"dataframe\">\n",
              "  <thead>\n",
              "    <tr style=\"text-align: right;\">\n",
              "      <th></th>\n",
              "      <th>number</th>\n",
              "      <th>timestamp</th>\n",
              "      <th>item</th>\n",
              "      <th>quantity</th>\n",
              "      <th>price</th>\n",
              "      <th>total_products_in_cart</th>\n",
              "      <th>date</th>\n",
              "    </tr>\n",
              "  </thead>\n",
              "  <tbody>\n",
              "    <tr>\n",
              "      <th>62109</th>\n",
              "      <td>6247</td>\n",
              "      <td>02/08/2017 16:53</td>\n",
              "      <td>Chicken Tikka Masala</td>\n",
              "      <td>4</td>\n",
              "      <td>8.95</td>\n",
              "      <td>1</td>\n",
              "      <td>2017-02-08</td>\n",
              "    </tr>\n",
              "    <tr>\n",
              "      <th>43348</th>\n",
              "      <td>14091</td>\n",
              "      <td>30/03/2019 18:50</td>\n",
              "      <td>Baingan Hari Mirch</td>\n",
              "      <td>1</td>\n",
              "      <td>5.95</td>\n",
              "      <td>9</td>\n",
              "      <td>2019-03-30</td>\n",
              "    </tr>\n",
              "  </tbody>\n",
              "</table>\n",
              "</div>"
            ],
            "text/plain": [
              "       number         timestamp  ... total_products_in_cart       date\n",
              "62109    6247  02/08/2017 16:53  ...                      1 2017-02-08\n",
              "43348   14091  30/03/2019 18:50  ...                      9 2019-03-30\n",
              "\n",
              "[2 rows x 7 columns]"
            ]
          },
          "metadata": {},
          "execution_count": 9
        }
      ]
    },
    {
      "cell_type": "code",
      "metadata": {
        "colab": {
          "base_uri": "https://localhost:8080/"
        },
        "id": "Lqhn-DF6DRqD",
        "outputId": "d2f01fe2-d478-418c-927e-560f99673fd6"
      },
      "source": [
        "print(f\"Total number of orders: {orders['number'].nunique()}\")"
      ],
      "execution_count": null,
      "outputs": [
        {
          "output_type": "stream",
          "name": "stdout",
          "text": [
            "Total number of orders: 13397\n"
          ]
        }
      ]
    },
    {
      "cell_type": "code",
      "metadata": {
        "id": "XprTMSnFD1bS"
      },
      "source": [
        "def load_query(path):\n",
        "  with open(path) as file:\n",
        "    return file.read()"
      ],
      "execution_count": null,
      "outputs": []
    },
    {
      "cell_type": "code",
      "metadata": {
        "colab": {
          "base_uri": "https://localhost:8080/",
          "height": 265
        },
        "id": "nnFQClh4EDJO",
        "outputId": "a210d525-3600-45ff-cb77-a19665b72682"
      },
      "source": [
        "query = load_query('Restfood.sql')\n",
        "daily_orders = pysqldf(query)"
      ],
      "execution_count": null,
      "outputs": [
        {
          "output_type": "error",
          "ename": "FileNotFoundError",
          "evalue": "ignored",
          "traceback": [
            "\u001b[0;31m---------------------------------------------------------------------------\u001b[0m",
            "\u001b[0;31mFileNotFoundError\u001b[0m                         Traceback (most recent call last)",
            "\u001b[0;32m<ipython-input-64-41b5615b6d79>\u001b[0m in \u001b[0;36m<module>\u001b[0;34m()\u001b[0m\n\u001b[0;32m----> 1\u001b[0;31m \u001b[0mquery\u001b[0m \u001b[0;34m=\u001b[0m \u001b[0mload_query\u001b[0m\u001b[0;34m(\u001b[0m\u001b[0;34m'Restfood.sql'\u001b[0m\u001b[0;34m)\u001b[0m\u001b[0;34m\u001b[0m\u001b[0;34m\u001b[0m\u001b[0m\n\u001b[0m\u001b[1;32m      2\u001b[0m \u001b[0mdaily_orders\u001b[0m \u001b[0;34m=\u001b[0m \u001b[0mpysqldf\u001b[0m\u001b[0;34m(\u001b[0m\u001b[0mquery\u001b[0m\u001b[0;34m)\u001b[0m\u001b[0;34m\u001b[0m\u001b[0;34m\u001b[0m\u001b[0m\n",
            "\u001b[0;32m<ipython-input-41-8e6ae76bed8c>\u001b[0m in \u001b[0;36mload_query\u001b[0;34m(path)\u001b[0m\n\u001b[1;32m      1\u001b[0m \u001b[0;32mdef\u001b[0m \u001b[0mload_query\u001b[0m\u001b[0;34m(\u001b[0m\u001b[0mpath\u001b[0m\u001b[0;34m)\u001b[0m\u001b[0;34m:\u001b[0m\u001b[0;34m\u001b[0m\u001b[0;34m\u001b[0m\u001b[0m\n\u001b[0;32m----> 2\u001b[0;31m   \u001b[0;32mwith\u001b[0m \u001b[0mopen\u001b[0m\u001b[0;34m(\u001b[0m\u001b[0mpath\u001b[0m\u001b[0;34m)\u001b[0m \u001b[0;32mas\u001b[0m \u001b[0mfile\u001b[0m\u001b[0;34m:\u001b[0m\u001b[0;34m\u001b[0m\u001b[0;34m\u001b[0m\u001b[0m\n\u001b[0m\u001b[1;32m      3\u001b[0m     \u001b[0;32mreturn\u001b[0m \u001b[0mfile\u001b[0m\u001b[0;34m.\u001b[0m\u001b[0mread\u001b[0m\u001b[0;34m(\u001b[0m\u001b[0;34m)\u001b[0m\u001b[0;34m\u001b[0m\u001b[0;34m\u001b[0m\u001b[0m\n",
            "\u001b[0;31mFileNotFoundError\u001b[0m: [Errno 2] No such file or directory: 'Restfood.sql'"
          ]
        }
      ]
    }
  ]
}