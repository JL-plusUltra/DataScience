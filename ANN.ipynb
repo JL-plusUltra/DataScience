{
  "nbformat": 4,
  "nbformat_minor": 0,
  "metadata": {
    "colab": {
      "name": "ANN.ipynb",
      "provenance": [],
      "authorship_tag": "ABX9TyPD1DDHftwPWVP8zpZowcRy",
      "include_colab_link": true
    },
    "kernelspec": {
      "name": "python3",
      "display_name": "Python 3"
    },
    "language_info": {
      "name": "python"
    }
  },
  "cells": [
    {
      "cell_type": "markdown",
      "metadata": {
        "id": "view-in-github",
        "colab_type": "text"
      },
      "source": [
        "<a href=\"https://colab.research.google.com/github/JL-plusUltra/DataScience/blob/main/ANN.ipynb\" target=\"_parent\"><img src=\"https://colab.research.google.com/assets/colab-badge.svg\" alt=\"Open In Colab\"/></a>"
      ]
    },
    {
      "cell_type": "code",
      "metadata": {
        "id": "Ws1HYzAfBT-U"
      },
      "source": [
        "import numpy as np\n",
        "import pandas as pd\n",
        "import matplotlib.pyplot as plt\n",
        "\n",
        "from matplotlib.colors import ListedColormap"
      ],
      "execution_count": null,
      "outputs": []
    },
    {
      "cell_type": "code",
      "metadata": {
        "id": "CoRuQtKoBYUY"
      },
      "source": [
        "cmap_bold = ListedColormap([\"#FF0000\", \"#00FF00\", \"#0000FF\"])\n",
        "cmap_light = ListedColormap([\"#FFBBBB\", \"#BBFFBB\", \"#BBBBFF\"])"
      ],
      "execution_count": null,
      "outputs": []
    },
    {
      "cell_type": "code",
      "metadata": {
        "id": "2Sd23bQVBYl4"
      },
      "source": [
        "def ReLU(H):\n",
        "  return H*(H>0)\n",
        "\n",
        "def softmax(H):\n",
        "  eH= np.exp(H)\n",
        "  return eH/eH.sum(axis=1, keepdims=True)\n",
        "\n",
        "def cross_entropy(Y,P_hat):\n",
        "  return -np.sum(Y*np.log(P_hat))\n",
        "\n",
        "def one_hot_encode(y):\n",
        "  N= len(y)\n",
        "  K= len(set(y))\n",
        "\n",
        "  Y=np.zeros((N,K))\n",
        "\n",
        "  for i in range(N):\n",
        "    Y[i,y[i]]= 1\n",
        "  return Y\n",
        "\n",
        "def accuracy(y,y_hat):\n",
        "  return np.mean(y==y_hat)"
      ],
      "execution_count": null,
      "outputs": []
    },
    {
      "cell_type": "code",
      "metadata": {
        "id": "dqOmNojEBZGi"
      },
      "source": [
        "class ANN():\n",
        "\n",
        "  def fit(self, X, y, neurons= 10, eta = 1e-3, epochs = 1e3, show_curve = False):\n",
        "    epochs=int(epochs)\n",
        "    Y = one_hot_encode(y)\n",
        "\n",
        "    N,D =X.shape\n",
        "    K=Y.shape[1]\n",
        "\n",
        "    self.W = {l: np.random.randn(M[0], M[1]) for l, M in enumerate(zip([D, neurons], [neurons, K]),1)}\n",
        "    self.b = {l: np.random.randn(M) for l, M in enumerate([neurons, K], 1)}\n",
        "\n",
        "    self.a = {1: np.tanh, 2:softmax}\n",
        "    \n",
        "    J = np.zeros(epochs)\n",
        "\n",
        "    for epoch in range(epochs):\n",
        "      self.forward(X)\n",
        "\n",
        "      P_hat = self.Z[2]\n",
        "\n",
        "      J[epoch] =  cross_entropy(Y, P_hat)\n",
        "\n",
        "      self.W[2] -= eta*(1/N)*self.Z[1].T@(P_hat-Y)\n",
        "      self.b[2] -= eta*(1/N)*(P_hat-Y).sum(axis=0)\n",
        "\n",
        "      self.W[1] -= eta*(1/N)*X.T@((P_hat-Y)@self.W[2].T*(1-self.Z[1]**2))\n",
        "      self.b[1] -= eta*(1/N)*((P_hat- Y)@self.W[2].T*(1- self.Z[1]**2)).sum(axis = 0)\n",
        "\n",
        "\n",
        "    if show_curve:\n",
        "            plt.figure()\n",
        "            plt.plot(J)\n",
        "            plt.xlabel(\"epochs\")\n",
        "            plt.ylabel(\"$\\mathcal{J}$\")\n",
        "            plt.show()\n",
        "\n",
        "  def forward(self, X):\n",
        "    self.Z ={0:X}\n",
        "\n",
        "    for l in sorted(self.W.keys()):\n",
        "      self.Z[l] = self.a[l](self.Z[l-1]@self.W[l] + self.b[l])\n",
        "\n",
        "  def predict(self, X):\n",
        "    self.forward(X)\n",
        "    return self.Z[2].argmax(axis=1)"
      ],
      "execution_count": null,
      "outputs": []
    },
    {
      "cell_type": "code",
      "metadata": {
        "id": "Gw-l9Bi1B4L_"
      },
      "source": [
        "def main():\n",
        "    D = 2\n",
        "    K = 3\n",
        "    N = int(K*1e3)\n",
        "    \n",
        "    X0 = np.random.randn((N//K),D) + np.array([2,2])\n",
        "    X1 = np.random.randn((N//K),D) + np.array([0,-2])\n",
        "    X2 = np.random.randn((N//K),D) + np.array([-2,2])\n",
        "    X = np.vstack((X0,X1,X2))\n",
        "    \n",
        "    y = np.array([0]*(N//K) + [1]*(N//K) + [2]*(N//K))\n",
        "    \n",
        "    ann = ANN()\n",
        "    ann.fit(X, y, neurons = 20, eta = 3e-2, epochs = 2e6, show_curve = True)\n",
        "    y_hat = ann.predict(X)\n",
        "    \n",
        "    print(f\"Training Accuracy: {accuracy(y, y_hat):0.4f}\")\n",
        "    \n",
        "    x1 = np.linspace(X[:,0].min() - 1, X[:,0].max() + 1, 1000)\n",
        "    x2 = np.linspace(X[:,1].min() - 1, X[:,1].max() + 1, 1000)\n",
        "    \n",
        "    xx1, xx2 = np.meshgrid(x1, x2)\n",
        "    Z = ann.predict(np.c_[xx1.ravel(),xx2.ravel()]).reshape(*xx1.shape)\n",
        "    \n",
        "    plt.figure()\n",
        "    plt.pcolormesh(xx1, xx2, Z, cmap = cmap_light)\n",
        "    plt.scatter(X[:,0], X[:,1], c = y, cmap = cmap_bold,alpha=.3)\n",
        "    plt.xlim(xx1.min(), xx1.max())\n",
        "    plt.ylim(xx2.min(), xx2.max())\n",
        "    plt.show()"
      ],
      "execution_count": null,
      "outputs": []
    }
  ]
}