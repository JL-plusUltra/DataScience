{
  "nbformat": 4,
  "nbformat_minor": 0,
  "metadata": {
    "colab": {
      "name": "WebScrape.ipynb",
      "provenance": [],
      "authorship_tag": "ABX9TyMxhI0i1lZmajmPAxSyNf7m",
      "include_colab_link": true
    },
    "kernelspec": {
      "name": "python3",
      "display_name": "Python 3"
    },
    "language_info": {
      "name": "python"
    }
  },
  "cells": [
    {
      "cell_type": "markdown",
      "metadata": {
        "id": "view-in-github",
        "colab_type": "text"
      },
      "source": [
        "<a href=\"https://colab.research.google.com/github/JL-plusUltra/DataScience/blob/main/WebScrape.ipynb\" target=\"_parent\"><img src=\"https://colab.research.google.com/assets/colab-badge.svg\" alt=\"Open In Colab\"/></a>"
      ]
    },
    {
      "cell_type": "code",
      "metadata": {
        "id": "-ji_WNzdt_dg"
      },
      "source": [
        "import requests\n",
        "from bs4 import BeautifulSoup"
      ],
      "execution_count": null,
      "outputs": []
    },
    {
      "cell_type": "code",
      "metadata": {
        "id": "CrpnSKoYuFa2"
      },
      "source": [
        "page = requests.get('https://codedamn-classrooms.github.io/webscraper-python-codedamn-classroom-website/')\n",
        "\n",
        "txt = page.text\n",
        "status = page.status_code\n",
        "\n"
      ],
      "execution_count": null,
      "outputs": []
    },
    {
      "cell_type": "code",
      "metadata": {
        "id": "XopBbjNUwNJI"
      },
      "source": [
        "soup = BeautifulSoup(page.content, 'html.parser')"
      ],
      "execution_count": null,
      "outputs": []
    },
    {
      "cell_type": "code",
      "metadata": {
        "id": "87Ti-lRews_z"
      },
      "source": [
        "page_title = soup.title\n",
        "page_body = soup.body \n",
        "page_head = soup.head "
      ],
      "execution_count": null,
      "outputs": []
    },
    {
      "cell_type": "code",
      "metadata": {
        "id": "QBdyjZx3xbCn"
      },
      "source": [
        "#print(page_title,page_body,page_head)"
      ],
      "execution_count": null,
      "outputs": []
    },
    {
      "cell_type": "code",
      "metadata": {
        "colab": {
          "base_uri": "https://localhost:8080/"
        },
        "id": "QaKDWyqIyLMN",
        "outputId": "257f4dcb-ba20-45e5-a17d-d50dc8ab230c"
      },
      "source": [
        "all_h1_tags = []\n",
        "for element in soup.select('h1'):\n",
        "  all_h1_tags.append(element.text)"
      ],
      "execution_count": null,
      "outputs": [
        {
          "output_type": "stream",
          "name": "stdout",
          "text": [
            "['Test Sites', 'E-commerce training site']\n"
          ]
        }
      ]
    },
    {
      "cell_type": "code",
      "metadata": {
        "colab": {
          "base_uri": "https://localhost:8080/"
        },
        "id": "idML4XjczZyw",
        "outputId": "e146db1d-9e13-43d0-eafa-5c3db5c7a860"
      },
      "source": [
        "seventh_p_text = soup.select('p')[6].text\n",
        "print(seventh_p_text)"
      ],
      "execution_count": null,
      "outputs": [
        {
          "output_type": "stream",
          "name": "stdout",
          "text": [
            "7 reviews\n"
          ]
        }
      ]
    },
    {
      "cell_type": "code",
      "metadata": {
        "colab": {
          "base_uri": "https://localhost:8080/"
        },
        "id": "aqch-lKz0RHk",
        "outputId": "5e7d9b7e-4715-4f3a-e9b7-b909e7c6be56"
      },
      "source": [
        "top_items = []\n",
        "products = soup.select('div.thumbnail')\n",
        "\n",
        "for elem in products:\n",
        "  title = elem.select('h4 > a.title')[0].text\n",
        "  review_label = elem.select('div.ratings')[0].text\n",
        "\n",
        "  info = {\n",
        "      'title': title.strip(),\n",
        "      'reviews': review_label.strip()\n",
        "\n",
        "  }\n",
        "  top_items.append(info)\n",
        "\n",
        "print(top_items)\n"
      ],
      "execution_count": null,
      "outputs": [
        {
          "output_type": "stream",
          "name": "stdout",
          "text": [
            "[{'title': 'Asus AsusPro Adv...', 'reviews': '7 reviews'}, {'title': 'Asus ROG Strix G...', 'reviews': '4 reviews'}, {'title': 'Acer Aspire 3 A3...', 'reviews': '2 reviews'}]\n"
          ]
        }
      ]
    },
    {
      "cell_type": "code",
      "metadata": {
        "colab": {
          "base_uri": "https://localhost:8080/"
        },
        "id": "LDBzlmDj038t",
        "outputId": "6c8dc21c-ce0b-4dc0-eaed-6c6a4ae1a1bd"
      },
      "source": [
        "print(products)"
      ],
      "execution_count": null,
      "outputs": [
        {
          "output_type": "stream",
          "name": "stdout",
          "text": [
            "[<div class=\"thumbnail\">\n",
            "<img alt=\"item\" class=\"img-responsive\" src=\"/webscraper-python-codedamn-classroom-website/cart2.png\"/>\n",
            "<div class=\"caption\">\n",
            "<h4 class=\"pull-right price\">$1139.54</h4>\n",
            "<h4>\n",
            "<a class=\"title\" href=\"/webscraper-python-codedamn-classroom-website/test-sites/e-commerce/allinone/product/593\" title=\"Asus AsusPro Advanced BU401LA-FA271G Dark Grey\">Asus AsusPro Adv...</a>\n",
            "</h4>\n",
            "<p class=\"description\">\n",
            "\t\t\t\t\t\t\t\t\t\t\tAsus AsusPro Advanced BU401LA-FA271G Dark Grey,\n",
            "\t\t\t\t\t\t\t\t\t\t\t14\", Core i5-4210U, 4GB, 128GB SSD, Win7 Pro 64bit,\n",
            "\t\t\t\t\t\t\t\t\t\t\tENG\n",
            "\t\t\t\t\t\t\t\t\t\t</p>\n",
            "</div>\n",
            "<div class=\"ratings\">\n",
            "<p class=\"pull-right\">7 reviews</p>\n",
            "<p data-rating=\"3\">\n",
            "<span class=\"glyphicon glyphicon-star\"></span>\n",
            "<span class=\"glyphicon glyphicon-star\"></span>\n",
            "<span class=\"glyphicon glyphicon-star\"></span>\n",
            "</p>\n",
            "</div>\n",
            "</div>, <div class=\"thumbnail\">\n",
            "<img alt=\"item\" class=\"img-responsive\" src=\"/webscraper-python-codedamn-classroom-website/cart2.png\"/>\n",
            "<div class=\"caption\">\n",
            "<h4 class=\"pull-right price\">$1101.83</h4>\n",
            "<h4>\n",
            "<a class=\"title\" href=\"/webscraper-python-codedamn-classroom-website/test-sites/e-commerce/allinone/product/583\" title=\"Asus ROG Strix GL553VD-DM535T\">Asus ROG Strix G...</a>\n",
            "</h4>\n",
            "<p class=\"description\">\n",
            "\t\t\t\t\t\t\t\t\t\t\tApple MacBook Air 13.3\", Core i5 1.8GHz, 8GB, 128GB\n",
            "\t\t\t\t\t\t\t\t\t\t\tSSD, Intel HD 4000, RUS\n",
            "\t\t\t\t\t\t\t\t\t\t</p>\n",
            "</div>\n",
            "<div class=\"ratings\">\n",
            "<p class=\"pull-right\">4 reviews</p>\n",
            "<p data-rating=\"2\">\n",
            "<span class=\"glyphicon glyphicon-star\"></span>\n",
            "<span class=\"glyphicon glyphicon-star\"></span>\n",
            "</p>\n",
            "</div>\n",
            "</div>, <div class=\"thumbnail\">\n",
            "<img alt=\"item\" class=\"img-responsive\" src=\"/webscraper-python-codedamn-classroom-website/cart2.png\"/>\n",
            "<div class=\"caption\">\n",
            "<h4 class=\"pull-right price\">$494.71</h4>\n",
            "<h4>\n",
            "<a class=\"title\" href=\"/webscraper-python-codedamn-classroom-website/test-sites/e-commerce/allinone/product/576\" title=\"Acer Aspire 3 A315-51 Black\">Acer Aspire 3 A3...</a>\n",
            "</h4>\n",
            "<p class=\"description\">\n",
            "\t\t\t\t\t\t\t\t\t\t\tAcer Aspire 3 A315-51 Black, 15.6\" FHD, Core\n",
            "\t\t\t\t\t\t\t\t\t\t\ti3-7100U, 4GB, 500GB + 128GB SSD, Windows 10 Home\n",
            "\t\t\t\t\t\t\t\t\t\t</p>\n",
            "</div>\n",
            "<div class=\"ratings\">\n",
            "<p class=\"pull-right\">2 reviews</p>\n",
            "<p data-rating=\"4\">\n",
            "<span class=\"glyphicon glyphicon-star\"></span>\n",
            "<span class=\"glyphicon glyphicon-star\"></span>\n",
            "<span class=\"glyphicon glyphicon-star\"></span>\n",
            "<span class=\"glyphicon glyphicon-star\"></span>\n",
            "</p>\n",
            "</div>\n",
            "</div>]\n"
          ]
        }
      ]
    }
  ]
}